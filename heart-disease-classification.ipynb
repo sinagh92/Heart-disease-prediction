{
 "cells": [
  {
   "cell_type": "code",
   "execution_count": 1,
   "id": "adfa3c32",
   "metadata": {
    "_cell_guid": "b1076dfc-b9ad-4769-8c92-a6c4dae69d19",
    "_uuid": "8f2839f25d086af736a60e9eeb907d3b93b6e0e5",
    "execution": {
     "iopub.execute_input": "2022-12-08T04:27:52.343901Z",
     "iopub.status.busy": "2022-12-08T04:27:52.343455Z",
     "iopub.status.idle": "2022-12-08T04:27:53.524446Z",
     "shell.execute_reply": "2022-12-08T04:27:53.523340Z"
    },
    "papermill": {
     "duration": 1.195685,
     "end_time": "2022-12-08T04:27:53.527937",
     "exception": false,
     "start_time": "2022-12-08T04:27:52.332252",
     "status": "completed"
    },
    "tags": []
   },
   "outputs": [
    {
     "name": "stdout",
     "output_type": "stream",
     "text": [
      "/kaggle/input/heart-disease-classification-dataset/heart disease classification dataset.csv\n"
     ]
    }
   ],
   "source": [
    "# This Python 3 environment comes with many helpful analytics libraries installed\n",
    "# It is defined by the kaggle/python Docker image: https://github.com/kaggle/docker-python\n",
    "# For example, here's several helpful packages to load\n",
    "\n",
    "import numpy as np # linear algebra\n",
    "import pandas as pd # data processing, CSV file I/O (e.g. pd.read_csv)\n",
    "from sklearn.model_selection import train_test_split\n",
    "from sklearn.svm import SVC\n",
    "from sklearn import svm\n",
    "from sklearn.metrics import classification_report\n",
    "from sklearn.metrics import confusion_matrix\n",
    "from sklearn import tree\n",
    "# Input data files are available in the read-only \"../input/\" directory\n",
    "# For example, running this (by clicking run or pressing Shift+Enter) will list all files under the input directory\n",
    "\n",
    "import os\n",
    "for dirname, _, filenames in os.walk('/kaggle/input'):\n",
    "    for filename in filenames:\n",
    "        print(os.path.join(dirname, filename))\n",
    "\n",
    "# You can write up to 20GB to the current directory (/kaggle/working/) that gets preserved as output when you create a version using \"Save & Run All\" \n",
    "# You can also write temporary files to /kaggle/temp/, but they won't be saved outside of the current session"
   ]
  },
  {
   "cell_type": "markdown",
   "id": "b6d85b3c",
   "metadata": {
    "papermill": {
     "duration": 0.007498,
     "end_time": "2022-12-08T04:27:53.545528",
     "exception": false,
     "start_time": "2022-12-08T04:27:53.538030",
     "status": "completed"
    },
    "tags": []
   },
   "source": [
    "# Libraries"
   ]
  },
  {
   "cell_type": "code",
   "execution_count": 2,
   "id": "9aed042a",
   "metadata": {
    "execution": {
     "iopub.execute_input": "2022-12-08T04:27:53.562414Z",
     "iopub.status.busy": "2022-12-08T04:27:53.561982Z",
     "iopub.status.idle": "2022-12-08T04:27:53.569747Z",
     "shell.execute_reply": "2022-12-08T04:27:53.568525Z"
    },
    "papermill": {
     "duration": 0.019003,
     "end_time": "2022-12-08T04:27:53.572170",
     "exception": false,
     "start_time": "2022-12-08T04:27:53.553167",
     "status": "completed"
    },
    "tags": []
   },
   "outputs": [],
   "source": [
    "import pandas as pd\n",
    "from matplotlib import pyplot as plt\n",
    "import numpy as np\n",
    "import sklearn as sk\n",
    "%matplotlib inline "
   ]
  },
  {
   "cell_type": "markdown",
   "id": "b681565a",
   "metadata": {
    "papermill": {
     "duration": 0.007269,
     "end_time": "2022-12-08T04:27:53.587083",
     "exception": false,
     "start_time": "2022-12-08T04:27:53.579814",
     "status": "completed"
    },
    "tags": []
   },
   "source": [
    "# Loading the data\n"
   ]
  },
  {
   "cell_type": "code",
   "execution_count": 3,
   "id": "c06c05c4",
   "metadata": {
    "execution": {
     "iopub.execute_input": "2022-12-08T04:27:53.604387Z",
     "iopub.status.busy": "2022-12-08T04:27:53.603593Z",
     "iopub.status.idle": "2022-12-08T04:27:53.663201Z",
     "shell.execute_reply": "2022-12-08T04:27:53.662070Z"
    },
    "papermill": {
     "duration": 0.071034,
     "end_time": "2022-12-08T04:27:53.665681",
     "exception": false,
     "start_time": "2022-12-08T04:27:53.594647",
     "status": "completed"
    },
    "tags": []
   },
   "outputs": [
    {
     "data": {
      "text/plain": [
       "(303, 15)"
      ]
     },
     "execution_count": 3,
     "metadata": {},
     "output_type": "execute_result"
    }
   ],
   "source": [
    "df = pd.read_csv(\"/kaggle/input/heart-disease-classification-dataset/heart disease classification dataset.csv\")\n",
    "df.describe()\n",
    "df.shape"
   ]
  },
  {
   "cell_type": "markdown",
   "id": "79d0ebe9",
   "metadata": {
    "papermill": {
     "duration": 0.007372,
     "end_time": "2022-12-08T04:27:53.682417",
     "exception": false,
     "start_time": "2022-12-08T04:27:53.675045",
     "status": "completed"
    },
    "tags": []
   },
   "source": [
    "# Exploring the data\n"
   ]
  },
  {
   "cell_type": "code",
   "execution_count": 4,
   "id": "1eb53385",
   "metadata": {
    "execution": {
     "iopub.execute_input": "2022-12-08T04:27:53.699674Z",
     "iopub.status.busy": "2022-12-08T04:27:53.698884Z",
     "iopub.status.idle": "2022-12-08T04:27:53.720985Z",
     "shell.execute_reply": "2022-12-08T04:27:53.719845Z"
    },
    "papermill": {
     "duration": 0.033298,
     "end_time": "2022-12-08T04:27:53.723430",
     "exception": false,
     "start_time": "2022-12-08T04:27:53.690132",
     "status": "completed"
    },
    "tags": []
   },
   "outputs": [
    {
     "data": {
      "text/html": [
       "<div>\n",
       "<style scoped>\n",
       "    .dataframe tbody tr th:only-of-type {\n",
       "        vertical-align: middle;\n",
       "    }\n",
       "\n",
       "    .dataframe tbody tr th {\n",
       "        vertical-align: top;\n",
       "    }\n",
       "\n",
       "    .dataframe thead th {\n",
       "        text-align: right;\n",
       "    }\n",
       "</style>\n",
       "<table border=\"1\" class=\"dataframe\">\n",
       "  <thead>\n",
       "    <tr style=\"text-align: right;\">\n",
       "      <th></th>\n",
       "      <th>Unnamed: 0</th>\n",
       "      <th>age</th>\n",
       "      <th>sex</th>\n",
       "      <th>cp</th>\n",
       "      <th>trestbps</th>\n",
       "      <th>chol</th>\n",
       "      <th>fbs</th>\n",
       "      <th>restecg</th>\n",
       "      <th>thalach</th>\n",
       "      <th>exang</th>\n",
       "      <th>oldpeak</th>\n",
       "      <th>slope</th>\n",
       "      <th>ca</th>\n",
       "      <th>thal</th>\n",
       "      <th>target</th>\n",
       "    </tr>\n",
       "  </thead>\n",
       "  <tbody>\n",
       "    <tr>\n",
       "      <th>0</th>\n",
       "      <td>0</td>\n",
       "      <td>63</td>\n",
       "      <td>male</td>\n",
       "      <td>3</td>\n",
       "      <td>145.0</td>\n",
       "      <td>233.0</td>\n",
       "      <td>1</td>\n",
       "      <td>0</td>\n",
       "      <td>150.0</td>\n",
       "      <td>0</td>\n",
       "      <td>2.3</td>\n",
       "      <td>0</td>\n",
       "      <td>0</td>\n",
       "      <td>1</td>\n",
       "      <td>yes</td>\n",
       "    </tr>\n",
       "    <tr>\n",
       "      <th>1</th>\n",
       "      <td>1</td>\n",
       "      <td>37</td>\n",
       "      <td>male</td>\n",
       "      <td>2</td>\n",
       "      <td>130.0</td>\n",
       "      <td>250.0</td>\n",
       "      <td>0</td>\n",
       "      <td>1</td>\n",
       "      <td>187.0</td>\n",
       "      <td>0</td>\n",
       "      <td>3.5</td>\n",
       "      <td>0</td>\n",
       "      <td>0</td>\n",
       "      <td>2</td>\n",
       "      <td>yes</td>\n",
       "    </tr>\n",
       "    <tr>\n",
       "      <th>2</th>\n",
       "      <td>2</td>\n",
       "      <td>41</td>\n",
       "      <td>female</td>\n",
       "      <td>1</td>\n",
       "      <td>130.0</td>\n",
       "      <td>204.0</td>\n",
       "      <td>0</td>\n",
       "      <td>0</td>\n",
       "      <td>172.0</td>\n",
       "      <td>0</td>\n",
       "      <td>1.4</td>\n",
       "      <td>2</td>\n",
       "      <td>0</td>\n",
       "      <td>2</td>\n",
       "      <td>yes</td>\n",
       "    </tr>\n",
       "    <tr>\n",
       "      <th>3</th>\n",
       "      <td>3</td>\n",
       "      <td>56</td>\n",
       "      <td>male</td>\n",
       "      <td>1</td>\n",
       "      <td>120.0</td>\n",
       "      <td>236.0</td>\n",
       "      <td>0</td>\n",
       "      <td>1</td>\n",
       "      <td>178.0</td>\n",
       "      <td>0</td>\n",
       "      <td>0.8</td>\n",
       "      <td>2</td>\n",
       "      <td>0</td>\n",
       "      <td>2</td>\n",
       "      <td>yes</td>\n",
       "    </tr>\n",
       "    <tr>\n",
       "      <th>4</th>\n",
       "      <td>4</td>\n",
       "      <td>57</td>\n",
       "      <td>female</td>\n",
       "      <td>0</td>\n",
       "      <td>NaN</td>\n",
       "      <td>354.0</td>\n",
       "      <td>0</td>\n",
       "      <td>1</td>\n",
       "      <td>163.0</td>\n",
       "      <td>1</td>\n",
       "      <td>0.6</td>\n",
       "      <td>2</td>\n",
       "      <td>0</td>\n",
       "      <td>2</td>\n",
       "      <td>yes</td>\n",
       "    </tr>\n",
       "  </tbody>\n",
       "</table>\n",
       "</div>"
      ],
      "text/plain": [
       "   Unnamed: 0  age     sex  cp  trestbps   chol  fbs  restecg  thalach  exang  \\\n",
       "0           0   63    male   3     145.0  233.0    1        0    150.0      0   \n",
       "1           1   37    male   2     130.0  250.0    0        1    187.0      0   \n",
       "2           2   41  female   1     130.0  204.0    0        0    172.0      0   \n",
       "3           3   56    male   1     120.0  236.0    0        1    178.0      0   \n",
       "4           4   57  female   0       NaN  354.0    0        1    163.0      1   \n",
       "\n",
       "   oldpeak  slope  ca  thal target  \n",
       "0      2.3      0   0     1    yes  \n",
       "1      3.5      0   0     2    yes  \n",
       "2      1.4      2   0     2    yes  \n",
       "3      0.8      2   0     2    yes  \n",
       "4      0.6      2   0     2    yes  "
      ]
     },
     "execution_count": 4,
     "metadata": {},
     "output_type": "execute_result"
    }
   ],
   "source": [
    "df.head()\n"
   ]
  },
  {
   "cell_type": "code",
   "execution_count": 5,
   "id": "abea3f8f",
   "metadata": {
    "execution": {
     "iopub.execute_input": "2022-12-08T04:27:53.741591Z",
     "iopub.status.busy": "2022-12-08T04:27:53.740844Z",
     "iopub.status.idle": "2022-12-08T04:27:53.750502Z",
     "shell.execute_reply": "2022-12-08T04:27:53.749545Z"
    },
    "papermill": {
     "duration": 0.021095,
     "end_time": "2022-12-08T04:27:53.752697",
     "exception": false,
     "start_time": "2022-12-08T04:27:53.731602",
     "status": "completed"
    },
    "tags": []
   },
   "outputs": [
    {
     "data": {
      "text/plain": [
       "Unnamed: 0    False\n",
       "age           False\n",
       "sex           False\n",
       "cp            False\n",
       "trestbps       True\n",
       "chol           True\n",
       "fbs           False\n",
       "restecg       False\n",
       "thalach        True\n",
       "exang         False\n",
       "oldpeak       False\n",
       "slope         False\n",
       "ca            False\n",
       "thal          False\n",
       "target        False\n",
       "dtype: bool"
      ]
     },
     "execution_count": 5,
     "metadata": {},
     "output_type": "execute_result"
    }
   ],
   "source": [
    "df.isnull().any()"
   ]
  },
  {
   "cell_type": "markdown",
   "id": "2b368171",
   "metadata": {
    "papermill": {
     "duration": 0.008008,
     "end_time": "2022-12-08T04:27:53.769054",
     "exception": false,
     "start_time": "2022-12-08T04:27:53.761046",
     "status": "completed"
    },
    "tags": []
   },
   "source": [
    "Fix the columns that have null values"
   ]
  },
  {
   "cell_type": "code",
   "execution_count": 6,
   "id": "3061efdb",
   "metadata": {
    "execution": {
     "iopub.execute_input": "2022-12-08T04:27:53.787269Z",
     "iopub.status.busy": "2022-12-08T04:27:53.786847Z",
     "iopub.status.idle": "2022-12-08T04:27:53.804601Z",
     "shell.execute_reply": "2022-12-08T04:27:53.803519Z"
    },
    "papermill": {
     "duration": 0.029723,
     "end_time": "2022-12-08T04:27:53.806941",
     "exception": false,
     "start_time": "2022-12-08T04:27:53.777218",
     "status": "completed"
    },
    "tags": []
   },
   "outputs": [
    {
     "data": {
      "text/plain": [
       "Unnamed: 0    False\n",
       "age           False\n",
       "sex           False\n",
       "cp            False\n",
       "trestbps      False\n",
       "chol          False\n",
       "fbs           False\n",
       "restecg       False\n",
       "thalach       False\n",
       "exang         False\n",
       "oldpeak       False\n",
       "slope         False\n",
       "ca            False\n",
       "thal          False\n",
       "target        False\n",
       "dtype: bool"
      ]
     },
     "execution_count": 6,
     "metadata": {},
     "output_type": "execute_result"
    }
   ],
   "source": [
    "df['chol'].value_counts()\n",
    "df['trestbps'].value_counts()\n",
    "df['thalach'].value_counts()\n",
    "        \n",
    "df['chol'] = df['chol'].fillna(df['chol'].mean())\n",
    "df['trestbps'] = df['trestbps'].fillna(df['trestbps'].mean())\n",
    "df['thalach'] = df['thalach'].fillna(df['trestbps'].mean())\n",
    "df.isnull().any()"
   ]
  },
  {
   "cell_type": "code",
   "execution_count": 7,
   "id": "b33229d0",
   "metadata": {
    "execution": {
     "iopub.execute_input": "2022-12-08T04:27:53.825220Z",
     "iopub.status.busy": "2022-12-08T04:27:53.824791Z",
     "iopub.status.idle": "2022-12-08T04:27:53.842300Z",
     "shell.execute_reply": "2022-12-08T04:27:53.841099Z"
    },
    "papermill": {
     "duration": 0.029042,
     "end_time": "2022-12-08T04:27:53.844474",
     "exception": false,
     "start_time": "2022-12-08T04:27:53.815432",
     "status": "completed"
    },
    "tags": []
   },
   "outputs": [
    {
     "name": "stdout",
     "output_type": "stream",
     "text": [
      "<class 'pandas.core.frame.DataFrame'>\n",
      "RangeIndex: 303 entries, 0 to 302\n",
      "Data columns (total 15 columns):\n",
      " #   Column      Non-Null Count  Dtype  \n",
      "---  ------      --------------  -----  \n",
      " 0   Unnamed: 0  303 non-null    int64  \n",
      " 1   age         303 non-null    int64  \n",
      " 2   sex         303 non-null    object \n",
      " 3   cp          303 non-null    int64  \n",
      " 4   trestbps    303 non-null    float64\n",
      " 5   chol        303 non-null    float64\n",
      " 6   fbs         303 non-null    int64  \n",
      " 7   restecg     303 non-null    int64  \n",
      " 8   thalach     303 non-null    float64\n",
      " 9   exang       303 non-null    int64  \n",
      " 10  oldpeak     303 non-null    float64\n",
      " 11  slope       303 non-null    int64  \n",
      " 12  ca          303 non-null    int64  \n",
      " 13  thal        303 non-null    int64  \n",
      " 14  target      303 non-null    object \n",
      "dtypes: float64(4), int64(9), object(2)\n",
      "memory usage: 35.6+ KB\n"
     ]
    }
   ],
   "source": [
    "df.info()"
   ]
  },
  {
   "cell_type": "markdown",
   "id": "2bb9dd73",
   "metadata": {
    "papermill": {
     "duration": 0.008099,
     "end_time": "2022-12-08T04:27:53.860913",
     "exception": false,
     "start_time": "2022-12-08T04:27:53.852814",
     "status": "completed"
    },
    "tags": []
   },
   "source": [
    "# Check for outliers\n"
   ]
  },
  {
   "cell_type": "code",
   "execution_count": 8,
   "id": "c2f5a666",
   "metadata": {
    "execution": {
     "iopub.execute_input": "2022-12-08T04:27:53.879123Z",
     "iopub.status.busy": "2022-12-08T04:27:53.878706Z",
     "iopub.status.idle": "2022-12-08T04:27:53.887239Z",
     "shell.execute_reply": "2022-12-08T04:27:53.886135Z"
    },
    "papermill": {
     "duration": 0.020378,
     "end_time": "2022-12-08T04:27:53.889543",
     "exception": false,
     "start_time": "2022-12-08T04:27:53.869165",
     "status": "completed"
    },
    "tags": []
   },
   "outputs": [
    {
     "data": {
      "text/plain": [
       "male      207\n",
       "female     96\n",
       "Name: sex, dtype: int64"
      ]
     },
     "execution_count": 8,
     "metadata": {},
     "output_type": "execute_result"
    }
   ],
   "source": [
    "df['sex'].value_counts()"
   ]
  },
  {
   "cell_type": "code",
   "execution_count": 9,
   "id": "664b8cdf",
   "metadata": {
    "execution": {
     "iopub.execute_input": "2022-12-08T04:27:53.908897Z",
     "iopub.status.busy": "2022-12-08T04:27:53.908003Z",
     "iopub.status.idle": "2022-12-08T04:27:54.024635Z",
     "shell.execute_reply": "2022-12-08T04:27:54.023587Z"
    },
    "papermill": {
     "duration": 0.129007,
     "end_time": "2022-12-08T04:27:54.027171",
     "exception": false,
     "start_time": "2022-12-08T04:27:53.898164",
     "status": "completed"
    },
    "tags": []
   },
   "outputs": [],
   "source": [
    "df['sex'].describe()\n",
    "df['sex_num'] = np.zeros([len(df['sex']),1])\n",
    "for i in range(0,len(df['sex'])):\n",
    "    if df.loc[i, 'sex'] == 'male':\n",
    "       # df['sex_num'][i] = 1\n",
    "        df.loc[i, 'sex_num'] = 1\n",
    "        \n",
    "\n",
    "df['target_num'] = np.zeros([len(df['target']),1])\n",
    "for i in range(0,len(df['target'])):\n",
    "    if df.loc[i, 'target'] == 'yes':\n",
    "       # df['sex_num'][i] = 1\n",
    "        df.loc[i, 'target_num'] = 1"
   ]
  },
  {
   "cell_type": "code",
   "execution_count": 10,
   "id": "4e38d04a",
   "metadata": {
    "execution": {
     "iopub.execute_input": "2022-12-08T04:27:54.046748Z",
     "iopub.status.busy": "2022-12-08T04:27:54.045811Z",
     "iopub.status.idle": "2022-12-08T04:27:54.054755Z",
     "shell.execute_reply": "2022-12-08T04:27:54.053661Z"
    },
    "papermill": {
     "duration": 0.021298,
     "end_time": "2022-12-08T04:27:54.057126",
     "exception": false,
     "start_time": "2022-12-08T04:27:54.035828",
     "status": "completed"
    },
    "tags": []
   },
   "outputs": [],
   "source": [
    "df['sex_num'].value_counts()\n",
    "#df.dtypes['sex']\n",
    "df = df.drop(columns = [\"sex\"])\n",
    "\n",
    "df = df.drop(columns = [\"target\"])"
   ]
  },
  {
   "cell_type": "code",
   "execution_count": 11,
   "id": "9ba865ad",
   "metadata": {
    "execution": {
     "iopub.execute_input": "2022-12-08T04:27:54.076228Z",
     "iopub.status.busy": "2022-12-08T04:27:54.075425Z",
     "iopub.status.idle": "2022-12-08T04:27:56.756488Z",
     "shell.execute_reply": "2022-12-08T04:27:56.755454Z"
    },
    "papermill": {
     "duration": 2.693284,
     "end_time": "2022-12-08T04:27:56.758962",
     "exception": false,
     "start_time": "2022-12-08T04:27:54.065678",
     "status": "completed"
    },
    "tags": []
   },
   "outputs": [
    {
     "name": "stdout",
     "output_type": "stream",
     "text": [
      "Unnamed: 0\n",
      "age\n",
      "cp\n",
      "trestbps\n",
      "chol\n",
      "fbs\n",
      "restecg\n",
      "thalach\n",
      "exang\n",
      "oldpeak\n",
      "slope\n",
      "ca\n",
      "thal\n",
      "sex_num\n",
      "target_num\n"
     ]
    },
    {
     "data": {
      "image/png": "[encoded data removed]",
      "text/plain": [
       "<Figure size 432x288 with 1 Axes>"
      ]
     },
     "metadata": {
      "needs_background": "light"
     },
     "output_type": "display_data"
    },
    {
     "data": {
      "image/png": "[encoded data removed]",
      "text/plain": [
       "<Figure size 432x288 with 1 Axes>"
      ]
     },
     "metadata": {
      "needs_background": "light"
     },
     "output_type": "display_data"
    },
    {
     "data": {
      "image/png": "[encoded data removed]",
      "text/plain": [
       "<Figure size 432x288 with 1 Axes>"
      ]
     },
     "metadata": {
      "needs_background": "light"
     },
     "output_type": "display_data"
    },
    {
     "data": {
      "image/png": "[encoded data removed]",
      "text/plain": [
       "<Figure size 432x288 with 1 Axes>"
      ]
     },
     "metadata": {
      "needs_background": "light"
     },
     "output_type": "display_data"
    },
    {
     "data": {
      "image/png": "[encoded data removed]",
      "text/plain": [
       "<Figure size 432x288 with 1 Axes>"
      ]
     },
     "metadata": {
      "needs_background": "light"
     },
     "output_type": "display_data"
    },
    {
     "data": {
      "image/png": "[encoded data removed]",
      "text/plain": [
       "<Figure size 432x288 with 1 Axes>"
      ]
     },
     "metadata": {
      "needs_background": "light"
     },
     "output_type": "display_data"
    },
    {
     "data": {
      "image/png": "[encoded data removed]",
      "text/plain": [
       "<Figure size 432x288 with 1 Axes>"
      ]
     },
     "metadata": {
      "needs_background": "light"
     },
     "output_type": "display_data"
    },
    {
     "data": {
      "image/png": "[encoded data removed]",
      "text/plain": [
       "<Figure size 432x288 with 1 Axes>"
      ]
     },
     "metadata": {
      "needs_background": "light"
     },
     "output_type": "display_data"
    },
    {
     "data": {
      "image/png": "[encoded data removed]",
      "text/plain": [
       "<Figure size 432x288 with 1 Axes>"
      ]
     },
     "metadata": {
      "needs_background": "light"
     },
     "output_type": "display_data"
    },
    {
     "data": {
      "image/png": "[encoded data removed]",
      "text/plain": [
       "<Figure size 432x288 with 1 Axes>"
      ]
     },
     "metadata": {
      "needs_background": "light"
     },
     "output_type": "display_data"
    },
    {
     "data": {
      "image/png": "[encoded data removed]",
      "text/plain": [
       "<Figure size 432x288 with 1 Axes>"
      ]
     },
     "metadata": {
      "needs_background": "light"
     },
     "output_type": "display_data"
    },
    {
     "data": {
      "image/png": "[encoded data removed]",
      "text/plain": [
       "<Figure size 432x288 with 1 Axes>"
      ]
     },
     "metadata": {
      "needs_background": "light"
     },
     "output_type": "display_data"
    },
    {
     "data": {
      "image/png": "[encoded data removed]",
      "text/plain": [
       "<Figure size 432x288 with 1 Axes>"
      ]
     },
     "metadata": {
      "needs_background": "light"
     },
     "output_type": "display_data"
    },
    {
     "data": {
      "image/png": "[encoded data removed]",
      "text/plain": [
       "<Figure size 432x288 with 1 Axes>"
      ]
     },
     "metadata": {
      "needs_background": "light"
     },
     "output_type": "display_data"
    },
    {
     "data": {
      "image/png": "[encoded data removed]",
      "text/plain": [
       "<Figure size 432x288 with 1 Axes>"
      ]
     },
     "metadata": {
      "needs_background": "light"
     },
     "output_type": "display_data"
    }
   ],
   "source": [
    "columns = list(df.columns.values)\n",
    "for col in columns:\n",
    "    print(col)\n",
    "    if df.dtypes[col] != 'O':\n",
    "        boxplot = df.boxplot(col,by=\"target_num\")\n",
    "    "
   ]
  },
  {
   "cell_type": "markdown",
   "id": "b4afe473",
   "metadata": {
    "papermill": {
     "duration": 0.011868,
     "end_time": "2022-12-08T04:27:56.783752",
     "exception": false,
     "start_time": "2022-12-08T04:27:56.771884",
     "status": "completed"
    },
    "tags": []
   },
   "source": [
    "Box plot shows many outliers. Lets try to see the \n",
    "\n",
    "\n",
    "ograms."
   ]
  },
  {
   "cell_type": "code",
   "execution_count": 12,
   "id": "83434b36",
   "metadata": {
    "execution": {
     "iopub.execute_input": "2022-12-08T04:27:56.809639Z",
     "iopub.status.busy": "2022-12-08T04:27:56.809211Z",
     "iopub.status.idle": "2022-12-08T04:28:01.942613Z",
     "shell.execute_reply": "2022-12-08T04:28:01.941517Z"
    },
    "papermill": {
     "duration": 5.149379,
     "end_time": "2022-12-08T04:28:01.945232",
     "exception": false,
     "start_time": "2022-12-08T04:27:56.795853",
     "status": "completed"
    },
    "tags": []
   },
   "outputs": [
    {
     "name": "stdout",
     "output_type": "stream",
     "text": [
      "Unnamed: 0\n",
      "age\n",
      "cp\n",
      "trestbps\n",
      "chol\n",
      "fbs\n",
      "restecg\n",
      "thalach\n",
      "exang\n",
      "oldpeak\n",
      "slope\n",
      "ca\n",
      "thal\n",
      "sex_num\n",
      "target_num\n"
     ]
    },
    {
     "data": {
      "image/png": "[encoded data removed]",
      "text/plain": [
       "<Figure size 432x288 with 2 Axes>"
      ]
     },
     "metadata": {
      "needs_background": "light"
     },
     "output_type": "display_data"
    },
    {
     "data": {
      "image/png": "[encoded data removed]",
      "text/plain": [
       "<Figure size 432x288 with 2 Axes>"
      ]
     },
     "metadata": {
      "needs_background": "light"
     },
     "output_type": "display_data"
    },
    {
     "data": {
      "image/png": "[encoded data removed]",
      "text/plain": [
       "<Figure size 432x288 with 2 Axes>"
      ]
     },
     "metadata": {
      "needs_background": "light"
     },
     "output_type": "display_data"
    },
    {
     "data": {
      "image/png": "[encoded data removed]",
      "text/plain": [
       "<Figure size 432x288 with 2 Axes>"
      ]
     },
     "metadata": {
      "needs_background": "light"
     },
     "output_type": "display_data"
    },
    {
     "data": {
      "image/png": "[encoded data removed]",
      "text/plain": [
       "<Figure size 432x288 with 2 Axes>"
      ]
     },
     "metadata": {
      "needs_background": "light"
     },
     "output_type": "display_data"
    },
    {
     "data": {
      "image/png": "[encoded data removed]",
      "text/plain": [
       "<Figure size 432x288 with 2 Axes>"
      ]
     },
     "metadata": {
      "needs_background": "light"
     },
     "output_type": "display_data"
    },
    {
     "data": {
      "image/png": "[encoded data removed]",
      "text/plain": [
       "<Figure size 432x288 with 2 Axes>"
      ]
     },
     "metadata": {
      "needs_background": "light"
     },
     "output_type": "display_data"
    },
    {
     "data": {
      "image/png": "[encoded data removed]",
      "text/plain": [
       "<Figure size 432x288 with 2 Axes>"
      ]
     },
     "metadata": {
      "needs_background": "light"
     },
     "output_type": "display_data"
    },
    {
     "data": {
      "image/png": "[encoded data removed]",
      "text/plain": [
       "<Figure size 432x288 with 2 Axes>"
      ]
     },
     "metadata": {
      "needs_background": "light"
     },
     "output_type": "display_data"
    },
    {
     "data": {
      "image/png": "[encoded data removed]",
      "text/plain": [
       "<Figure size 432x288 with 2 Axes>"
      ]
     },
     "metadata": {
      "needs_background": "light"
     },
     "output_type": "display_data"
    },
    {
     "data": {
      "image/png": "[encoded data removed]",
      "text/plain": [
       "<Figure size 432x288 with 2 Axes>"
      ]
     },
     "metadata": {
      "needs_background": "light"
     },
     "output_type": "display_data"
    },
    {
     "data": {
      "image/png": "[encoded data removed]",
      "text/plain": [
       "<Figure size 432x288 with 2 Axes>"
      ]
     },
     "metadata": {
      "needs_background": "light"
     },
     "output_type": "display_data"
    },
    {
     "data": {
      "image/png": "[encoded data removed]",
      "text/plain": [
       "<Figure size 432x288 with 2 Axes>"
      ]
     },
     "metadata": {
      "needs_background": "light"
     },
     "output_type": "display_data"
    },
    {
     "data": {
      "image/png": "[encoded data removed]",
      "text/plain": [
       "<Figure size 432x288 with 2 Axes>"
      ]
     },
     "metadata": {
      "needs_background": "light"
     },
     "output_type": "display_data"
    },
    {
     "data": {
      "image/png": "[encoded data removed]",
      "text/plain": [
       "<Figure size 432x288 with 2 Axes>"
      ]
     },
     "metadata": {
      "needs_background": "light"
     },
     "output_type": "display_data"
    }
   ],
   "source": [
    "for col in columns:\n",
    "    print(col)\n",
    "    #if df.dtypes[col] != 'O':\n",
    "    hist = df.hist(col,by=\"target_num\")\n",
    "    plt.ylabel(col)"
   ]
  },
  {
   "cell_type": "markdown",
   "id": "f81b02c0",
   "metadata": {
    "papermill": {
     "duration": 0.015354,
     "end_time": "2022-12-08T04:28:01.976771",
     "exception": false,
     "start_time": "2022-12-08T04:28:01.961417",
     "status": "completed"
    },
    "tags": []
   },
   "source": [
    "The results shows that there are not much outliers."
   ]
  },
  {
   "cell_type": "markdown",
   "id": "aae852ea",
   "metadata": {
    "papermill": {
     "duration": 0.015727,
     "end_time": "2022-12-08T04:28:02.008235",
     "exception": false,
     "start_time": "2022-12-08T04:28:01.992508",
     "status": "completed"
    },
    "tags": []
   },
   "source": [
    "# Checking the correlation among data"
   ]
  },
  {
   "cell_type": "code",
   "execution_count": 13,
   "id": "4ac8ca10",
   "metadata": {
    "execution": {
     "iopub.execute_input": "2022-12-08T04:28:02.041890Z",
     "iopub.status.busy": "2022-12-08T04:28:02.041448Z",
     "iopub.status.idle": "2022-12-08T04:28:02.148406Z",
     "shell.execute_reply": "2022-12-08T04:28:02.147113Z"
    },
    "papermill": {
     "duration": 0.12702,
     "end_time": "2022-12-08T04:28:02.151165",
     "exception": false,
     "start_time": "2022-12-08T04:28:02.024145",
     "status": "completed"
    },
    "tags": []
   },
   "outputs": [
    {
     "data": {
      "text/html": [
       "<style type=\"text/css\">\n",
       "#T_60c83_row0_col0, #T_60c83_row1_col1, #T_60c83_row2_col2, #T_60c83_row3_col3, #T_60c83_row4_col4, #T_60c83_row5_col5, #T_60c83_row6_col6, #T_60c83_row7_col7, #T_60c83_row8_col8, #T_60c83_row9_col9, #T_60c83_row10_col10, #T_60c83_row11_col11, #T_60c83_row12_col12, #T_60c83_row13_col13, #T_60c83_row14_col14 {\n",
       "  background-color: #b40426;\n",
       "  color: #f1f1f1;\n",
       "}\n",
       "#T_60c83_row0_col1, #T_60c83_row4_col14 {\n",
       "  background-color: #c5d6f2;\n",
       "  color: #000000;\n",
       "}\n",
       "#T_60c83_row0_col2, #T_60c83_row0_col7, #T_60c83_row0_col14, #T_60c83_row1_col7, #T_60c83_row4_col6, #T_60c83_row6_col5, #T_60c83_row7_col1, #T_60c83_row8_col2, #T_60c83_row9_col10, #T_60c83_row10_col9, #T_60c83_row13_col4, #T_60c83_row14_col0, #T_60c83_row14_col3, #T_60c83_row14_col8, #T_60c83_row14_col11, #T_60c83_row14_col12, #T_60c83_row14_col13 {\n",
       "  background-color: #3b4cc0;\n",
       "  color: #f1f1f1;\n",
       "}\n",
       "#T_60c83_row0_col3, #T_60c83_row10_col6, #T_60c83_row12_col7, #T_60c83_row13_col1 {\n",
       "  background-color: #80a3fa;\n",
       "  color: #f1f1f1;\n",
       "}\n",
       "#T_60c83_row0_col4, #T_60c83_row2_col13, #T_60c83_row7_col12, #T_60c83_row7_col13 {\n",
       "  background-color: #7597f6;\n",
       "  color: #f1f1f1;\n",
       "}\n",
       "#T_60c83_row0_col5, #T_60c83_row9_col6, #T_60c83_row13_col6 {\n",
       "  background-color: #536edd;\n",
       "  color: #f1f1f1;\n",
       "}\n",
       "#T_60c83_row0_col6 {\n",
       "  background-color: #5d7ce6;\n",
       "  color: #f1f1f1;\n",
       "}\n",
       "#T_60c83_row0_col8, #T_60c83_row0_col9, #T_60c83_row0_col11 {\n",
       "  background-color: #ead4c8;\n",
       "  color: #000000;\n",
       "}\n",
       "#T_60c83_row0_col10, #T_60c83_row1_col5 {\n",
       "  background-color: #779af7;\n",
       "  color: #f1f1f1;\n",
       "}\n",
       "#T_60c83_row0_col12, #T_60c83_row5_col14, #T_60c83_row12_col8 {\n",
       "  background-color: #cedaeb;\n",
       "  color: #000000;\n",
       "}\n",
       "#T_60c83_row0_col13 {\n",
       "  background-color: #b9d0f9;\n",
       "  color: #000000;\n",
       "}\n",
       "#T_60c83_row1_col0 {\n",
       "  background-color: #ecd3c5;\n",
       "  color: #000000;\n",
       "}\n",
       "#T_60c83_row1_col2 {\n",
       "  background-color: #88abfd;\n",
       "  color: #000000;\n",
       "}\n",
       "#T_60c83_row1_col3, #T_60c83_row5_col1, #T_60c83_row5_col9, #T_60c83_row10_col2, #T_60c83_row11_col12 {\n",
       "  background-color: #b6cefa;\n",
       "  color: #000000;\n",
       "}\n",
       "#T_60c83_row1_col4, #T_60c83_row1_col14 {\n",
       "  background-color: #adc9fd;\n",
       "  color: #000000;\n",
       "}\n",
       "#T_60c83_row1_col6, #T_60c83_row2_col8 {\n",
       "  background-color: #4358cb;\n",
       "  color: #f1f1f1;\n",
       "}\n",
       "#T_60c83_row1_col8 {\n",
       "  background-color: #b7cff9;\n",
       "  color: #000000;\n",
       "}\n",
       "#T_60c83_row1_col9, #T_60c83_row12_col9 {\n",
       "  background-color: #dcdddd;\n",
       "  color: #000000;\n",
       "}\n",
       "#T_60c83_row1_col10, #T_60c83_row3_col7 {\n",
       "  background-color: #90b2fe;\n",
       "  color: #000000;\n",
       "}\n",
       "#T_60c83_row1_col11 {\n",
       "  background-color: #d7dce3;\n",
       "  color: #000000;\n",
       "}\n",
       "#T_60c83_row1_col12, #T_60c83_row6_col7 {\n",
       "  background-color: #a1c0ff;\n",
       "  color: #000000;\n",
       "}\n",
       "#T_60c83_row1_col13, #T_60c83_row7_col4 {\n",
       "  background-color: #6788ee;\n",
       "  color: #f1f1f1;\n",
       "}\n",
       "#T_60c83_row2_col0, #T_60c83_row6_col12, #T_60c83_row12_col4, #T_60c83_row13_col7, #T_60c83_row14_col6 {\n",
       "  background-color: #8caffe;\n",
       "  color: #000000;\n",
       "}\n",
       "#T_60c83_row2_col1, #T_60c83_row4_col3, #T_60c83_row5_col12, #T_60c83_row9_col14 {\n",
       "  background-color: #86a9fc;\n",
       "  color: #f1f1f1;\n",
       "}\n",
       "#T_60c83_row2_col3, #T_60c83_row2_col5 {\n",
       "  background-color: #6f92f3;\n",
       "  color: #f1f1f1;\n",
       "}\n",
       "#T_60c83_row2_col4, #T_60c83_row8_col5 {\n",
       "  background-color: #5977e3;\n",
       "  color: #f1f1f1;\n",
       "}\n",
       "#T_60c83_row2_col6, #T_60c83_row3_col13, #T_60c83_row12_col2 {\n",
       "  background-color: #7093f3;\n",
       "  color: #f1f1f1;\n",
       "}\n",
       "#T_60c83_row2_col7, #T_60c83_row7_col2 {\n",
       "  background-color: #dbdcde;\n",
       "  color: #000000;\n",
       "}\n",
       "#T_60c83_row2_col9 {\n",
       "  background-color: #94b6ff;\n",
       "  color: #000000;\n",
       "}\n",
       "#T_60c83_row2_col10, #T_60c83_row9_col11 {\n",
       "  background-color: #cdd9ec;\n",
       "  color: #000000;\n",
       "}\n",
       "#T_60c83_row2_col11 {\n",
       "  background-color: #6a8bef;\n",
       "  color: #f1f1f1;\n",
       "}\n",
       "#T_60c83_row2_col12, #T_60c83_row11_col7 {\n",
       "  background-color: #6485ec;\n",
       "  color: #f1f1f1;\n",
       "}\n",
       "#T_60c83_row2_col14 {\n",
       "  background-color: #f7ad90;\n",
       "  color: #000000;\n",
       "}\n",
       "#T_60c83_row3_col0 {\n",
       "  background-color: #e1dad6;\n",
       "  color: #000000;\n",
       "}\n",
       "#T_60c83_row3_col1, #T_60c83_row11_col1 {\n",
       "  background-color: #d8dce2;\n",
       "  color: #000000;\n",
       "}\n",
       "#T_60c83_row3_col2, #T_60c83_row6_col2 {\n",
       "  background-color: #a5c3fe;\n",
       "  color: #000000;\n",
       "}\n",
       "#T_60c83_row3_col4 {\n",
       "  background-color: #93b5fe;\n",
       "  color: #000000;\n",
       "}\n",
       "#T_60c83_row3_col5 {\n",
       "  background-color: #89acfd;\n",
       "  color: #000000;\n",
       "}\n",
       "#T_60c83_row3_col6 {\n",
       "  background-color: #445acc;\n",
       "  color: #f1f1f1;\n",
       "}\n",
       "#T_60c83_row3_col8, #T_60c83_row3_col11, #T_60c83_row5_col2, #T_60c83_row8_col1 {\n",
       "  background-color: #b1cbfc;\n",
       "  color: #000000;\n",
       "}\n",
       "#T_60c83_row3_col9 {\n",
       "  background-color: #dadce0;\n",
       "  color: #000000;\n",
       "}\n",
       "#T_60c83_row3_col10 {\n",
       "  background-color: #9bbcff;\n",
       "  color: #000000;\n",
       "}\n",
       "#T_60c83_row3_col12 {\n",
       "  background-color: #9fbfff;\n",
       "  color: #000000;\n",
       "}\n",
       "#T_60c83_row3_col14, #T_60c83_row12_col11 {\n",
       "  background-color: #bcd2f7;\n",
       "  color: #000000;\n",
       "}\n",
       "#T_60c83_row4_col0 {\n",
       "  background-color: #d6dce4;\n",
       "  color: #000000;\n",
       "}\n",
       "#T_60c83_row4_col1, #T_60c83_row9_col1 {\n",
       "  background-color: #cbd8ee;\n",
       "  color: #000000;\n",
       "}\n",
       "#T_60c83_row4_col2, #T_60c83_row6_col11, #T_60c83_row8_col14 {\n",
       "  background-color: #85a8fc;\n",
       "  color: #f1f1f1;\n",
       "}\n",
       "#T_60c83_row4_col5 {\n",
       "  background-color: #5572df;\n",
       "  color: #f1f1f1;\n",
       "}\n",
       "#T_60c83_row4_col7 {\n",
       "  background-color: #92b4fe;\n",
       "  color: #000000;\n",
       "}\n",
       "#T_60c83_row4_col8 {\n",
       "  background-color: #afcafc;\n",
       "  color: #000000;\n",
       "}\n",
       "#T_60c83_row4_col9 {\n",
       "  background-color: #c0d4f5;\n",
       "  color: #000000;\n",
       "}\n",
       "#T_60c83_row4_col10, #T_60c83_row8_col11, #T_60c83_row13_col11 {\n",
       "  background-color: #b5cdfa;\n",
       "  color: #000000;\n",
       "}\n",
       "#T_60c83_row4_col11 {\n",
       "  background-color: #aac7fd;\n",
       "  color: #000000;\n",
       "}\n",
       "#T_60c83_row4_col12, #T_60c83_row5_col10, #T_60c83_row6_col9, #T_60c83_row8_col13, #T_60c83_row12_col1 {\n",
       "  background-color: #a9c6fd;\n",
       "  color: #000000;\n",
       "}\n",
       "#T_60c83_row4_col13 {\n",
       "  background-color: #4e68d8;\n",
       "  color: #f1f1f1;\n",
       "}\n",
       "#T_60c83_row5_col0 {\n",
       "  background-color: #d3dbe7;\n",
       "  color: #000000;\n",
       "}\n",
       "#T_60c83_row5_col3, #T_60c83_row5_col7, #T_60c83_row12_col14 {\n",
       "  background-color: #97b8ff;\n",
       "  color: #000000;\n",
       "}\n",
       "#T_60c83_row5_col4, #T_60c83_row6_col13 {\n",
       "  background-color: #7295f4;\n",
       "  color: #f1f1f1;\n",
       "}\n",
       "#T_60c83_row5_col6 {\n",
       "  background-color: #4b64d5;\n",
       "  color: #f1f1f1;\n",
       "}\n",
       "#T_60c83_row5_col8 {\n",
       "  background-color: #a6c4fe;\n",
       "  color: #000000;\n",
       "}\n",
       "#T_60c83_row5_col11 {\n",
       "  background-color: #bad0f8;\n",
       "  color: #000000;\n",
       "}\n",
       "#T_60c83_row5_col13, #T_60c83_row6_col8 {\n",
       "  background-color: #8fb1fe;\n",
       "  color: #000000;\n",
       "}\n",
       "#T_60c83_row6_col0 {\n",
       "  background-color: #cfdaea;\n",
       "  color: #000000;\n",
       "}\n",
       "#T_60c83_row6_col1, #T_60c83_row8_col10 {\n",
       "  background-color: #7b9ff9;\n",
       "  color: #f1f1f1;\n",
       "}\n",
       "#T_60c83_row6_col3 {\n",
       "  background-color: #4257c9;\n",
       "  color: #f1f1f1;\n",
       "}\n",
       "#T_60c83_row6_col4, #T_60c83_row9_col7 {\n",
       "  background-color: #465ecf;\n",
       "  color: #f1f1f1;\n",
       "}\n",
       "#T_60c83_row6_col10 {\n",
       "  background-color: #c7d7f0;\n",
       "  color: #000000;\n",
       "}\n",
       "#T_60c83_row6_col14 {\n",
       "  background-color: #e6d7cf;\n",
       "  color: #000000;\n",
       "}\n",
       "#T_60c83_row7_col0, #T_60c83_row11_col14, #T_60c83_row13_col2 {\n",
       "  background-color: #8db0fe;\n",
       "  color: #000000;\n",
       "}\n",
       "#T_60c83_row7_col3 {\n",
       "  background-color: #5875e1;\n",
       "  color: #f1f1f1;\n",
       "}\n",
       "#T_60c83_row7_col5 {\n",
       "  background-color: #506bda;\n",
       "  color: #f1f1f1;\n",
       "}\n",
       "#T_60c83_row7_col6 {\n",
       "  background-color: #6c8ff1;\n",
       "  color: #f1f1f1;\n",
       "}\n",
       "#T_60c83_row7_col8 {\n",
       "  background-color: #455cce;\n",
       "  color: #f1f1f1;\n",
       "}\n",
       "#T_60c83_row7_col9, #T_60c83_row11_col2 {\n",
       "  background-color: #6b8df0;\n",
       "  color: #f1f1f1;\n",
       "}\n",
       "#T_60c83_row7_col10 {\n",
       "  background-color: #f2cab5;\n",
       "  color: #000000;\n",
       "}\n",
       "#T_60c83_row7_col11 {\n",
       "  background-color: #6384eb;\n",
       "  color: #f1f1f1;\n",
       "}\n",
       "#T_60c83_row7_col14 {\n",
       "  background-color: #f7b194;\n",
       "  color: #000000;\n",
       "}\n",
       "#T_60c83_row8_col0 {\n",
       "  background-color: #f7ba9f;\n",
       "  color: #000000;\n",
       "}\n",
       "#T_60c83_row8_col3 {\n",
       "  background-color: #7699f6;\n",
       "  color: #f1f1f1;\n",
       "}\n",
       "#T_60c83_row8_col4 {\n",
       "  background-color: #82a6fb;\n",
       "  color: #f1f1f1;\n",
       "}\n",
       "#T_60c83_row8_col6, #T_60c83_row11_col6, #T_60c83_row13_col3 {\n",
       "  background-color: #4f69d9;\n",
       "  color: #f1f1f1;\n",
       "}\n",
       "#T_60c83_row8_col7 {\n",
       "  background-color: #3d50c3;\n",
       "  color: #f1f1f1;\n",
       "}\n",
       "#T_60c83_row8_col9, #T_60c83_row10_col7 {\n",
       "  background-color: #e9d5cb;\n",
       "  color: #000000;\n",
       "}\n",
       "#T_60c83_row8_col12 {\n",
       "  background-color: #c3d5f4;\n",
       "  color: #000000;\n",
       "}\n",
       "#T_60c83_row9_col0 {\n",
       "  background-color: #f4c5ad;\n",
       "  color: #000000;\n",
       "}\n",
       "#T_60c83_row9_col2, #T_60c83_row10_col12, #T_60c83_row12_col3 {\n",
       "  background-color: #7396f5;\n",
       "  color: #f1f1f1;\n",
       "}\n",
       "#T_60c83_row9_col3, #T_60c83_row9_col13 {\n",
       "  background-color: #9dbdff;\n",
       "  color: #000000;\n",
       "}\n",
       "#T_60c83_row9_col4, #T_60c83_row11_col3 {\n",
       "  background-color: #7ea1fa;\n",
       "  color: #f1f1f1;\n",
       "}\n",
       "#T_60c83_row9_col5 {\n",
       "  background-color: #5470de;\n",
       "  color: #f1f1f1;\n",
       "}\n",
       "#T_60c83_row9_col8, #T_60c83_row11_col9 {\n",
       "  background-color: #dedcdb;\n",
       "  color: #000000;\n",
       "}\n",
       "#T_60c83_row9_col12, #T_60c83_row13_col12 {\n",
       "  background-color: #c4d5f3;\n",
       "  color: #000000;\n",
       "}\n",
       "#T_60c83_row10_col0, #T_60c83_row11_col10 {\n",
       "  background-color: #a3c2fe;\n",
       "  color: #000000;\n",
       "}\n",
       "#T_60c83_row10_col1, #T_60c83_row10_col4 {\n",
       "  background-color: #6e90f2;\n",
       "  color: #f1f1f1;\n",
       "}\n",
       "#T_60c83_row10_col3 {\n",
       "  background-color: #3f53c6;\n",
       "  color: #f1f1f1;\n",
       "}\n",
       "#T_60c83_row10_col5 {\n",
       "  background-color: #4055c8;\n",
       "  color: #f1f1f1;\n",
       "}\n",
       "#T_60c83_row10_col8, #T_60c83_row14_col1 {\n",
       "  background-color: #6180e9;\n",
       "  color: #f1f1f1;\n",
       "}\n",
       "#T_60c83_row10_col11, #T_60c83_row11_col4 {\n",
       "  background-color: #84a7fc;\n",
       "  color: #f1f1f1;\n",
       "}\n",
       "#T_60c83_row10_col13 {\n",
       "  background-color: #7a9df8;\n",
       "  color: #f1f1f1;\n",
       "}\n",
       "#T_60c83_row10_col14 {\n",
       "  background-color: #f6bda2;\n",
       "  color: #000000;\n",
       "}\n",
       "#T_60c83_row11_col0 {\n",
       "  background-color: #f7b79b;\n",
       "  color: #000000;\n",
       "}\n",
       "#T_60c83_row11_col5 {\n",
       "  background-color: #7da0f9;\n",
       "  color: #f1f1f1;\n",
       "}\n",
       "#T_60c83_row11_col8, #T_60c83_row12_col13 {\n",
       "  background-color: #bbd1f8;\n",
       "  color: #000000;\n",
       "}\n",
       "#T_60c83_row11_col13, #T_60c83_row13_col14 {\n",
       "  background-color: #a2c1ff;\n",
       "  color: #000000;\n",
       "}\n",
       "#T_60c83_row12_col0 {\n",
       "  background-color: #f2cbb7;\n",
       "  color: #000000;\n",
       "}\n",
       "#T_60c83_row12_col5 {\n",
       "  background-color: #4961d2;\n",
       "  color: #f1f1f1;\n",
       "}\n",
       "#T_60c83_row12_col6, #T_60c83_row13_col5 {\n",
       "  background-color: #5f7fe8;\n",
       "  color: #f1f1f1;\n",
       "}\n",
       "#T_60c83_row12_col10 {\n",
       "  background-color: #9ebeff;\n",
       "  color: #000000;\n",
       "}\n",
       "#T_60c83_row13_col0 {\n",
       "  background-color: #edd1c2;\n",
       "  color: #000000;\n",
       "}\n",
       "#T_60c83_row13_col8 {\n",
       "  background-color: #c1d4f4;\n",
       "  color: #000000;\n",
       "}\n",
       "#T_60c83_row13_col9 {\n",
       "  background-color: #c9d7f0;\n",
       "  color: #000000;\n",
       "}\n",
       "#T_60c83_row13_col10 {\n",
       "  background-color: #aec9fc;\n",
       "  color: #000000;\n",
       "}\n",
       "#T_60c83_row14_col2 {\n",
       "  background-color: #f1ccb8;\n",
       "  color: #000000;\n",
       "}\n",
       "#T_60c83_row14_col4, #T_60c83_row14_col9 {\n",
       "  background-color: #5673e0;\n",
       "  color: #f1f1f1;\n",
       "}\n",
       "#T_60c83_row14_col5 {\n",
       "  background-color: #4a63d3;\n",
       "  color: #f1f1f1;\n",
       "}\n",
       "#T_60c83_row14_col7 {\n",
       "  background-color: #eed0c0;\n",
       "  color: #000000;\n",
       "}\n",
       "#T_60c83_row14_col10 {\n",
       "  background-color: #efcebd;\n",
       "  color: #000000;\n",
       "}\n",
       "</style>\n",
       "<table id=\"T_60c83_\">\n",
       "  <thead>\n",
       "    <tr>\n",
       "      <th class=\"blank level0\" >&nbsp;</th>\n",
       "      <th class=\"col_heading level0 col0\" >Unnamed: 0</th>\n",
       "      <th class=\"col_heading level0 col1\" >age</th>\n",
       "      <th class=\"col_heading level0 col2\" >cp</th>\n",
       "      <th class=\"col_heading level0 col3\" >trestbps</th>\n",
       "      <th class=\"col_heading level0 col4\" >chol</th>\n",
       "      <th class=\"col_heading level0 col5\" >fbs</th>\n",
       "      <th class=\"col_heading level0 col6\" >restecg</th>\n",
       "      <th class=\"col_heading level0 col7\" >thalach</th>\n",
       "      <th class=\"col_heading level0 col8\" >exang</th>\n",
       "      <th class=\"col_heading level0 col9\" >oldpeak</th>\n",
       "      <th class=\"col_heading level0 col10\" >slope</th>\n",
       "      <th class=\"col_heading level0 col11\" >ca</th>\n",
       "      <th class=\"col_heading level0 col12\" >thal</th>\n",
       "      <th class=\"col_heading level0 col13\" >sex_num</th>\n",
       "      <th class=\"col_heading level0 col14\" >target_num</th>\n",
       "    </tr>\n",
       "  </thead>\n",
       "  <tbody>\n",
       "    <tr>\n",
       "      <th id=\"T_60c83_level0_row0\" class=\"row_heading level0 row0\" >Unnamed: 0</th>\n",
       "      <td id=\"T_60c83_row0_col0\" class=\"data row0 col0\" >1.000000</td>\n",
       "      <td id=\"T_60c83_row0_col1\" class=\"data row0 col1\" >0.185153</td>\n",
       "      <td id=\"T_60c83_row0_col2\" class=\"data row0 col2\" >-0.399163</td>\n",
       "      <td id=\"T_60c83_row0_col3\" class=\"data row0 col3\" >0.101697</td>\n",
       "      <td id=\"T_60c83_row0_col4\" class=\"data row0 col4\" >0.021571</td>\n",
       "      <td id=\"T_60c83_row0_col5\" class=\"data row0 col5\" >0.000743</td>\n",
       "      <td id=\"T_60c83_row0_col6\" class=\"data row0 col6\" >-0.021130</td>\n",
       "      <td id=\"T_60c83_row0_col7\" class=\"data row0 col7\" >-0.394192</td>\n",
       "      <td id=\"T_60c83_row0_col8\" class=\"data row0 col8\" >0.363788</td>\n",
       "      <td id=\"T_60c83_row0_col9\" class=\"data row0 col9\" >0.298161</td>\n",
       "      <td id=\"T_60c83_row0_col10\" class=\"data row0 col10\" >-0.276484</td>\n",
       "      <td id=\"T_60c83_row0_col11\" class=\"data row0 col11\" >0.384962</td>\n",
       "      <td id=\"T_60c83_row0_col12\" class=\"data row0 col12\" >0.257403</td>\n",
       "      <td id=\"T_60c83_row0_col13\" class=\"data row0 col13\" >0.201132</td>\n",
       "      <td id=\"T_60c83_row0_col14\" class=\"data row0 col14\" >-0.862585</td>\n",
       "    </tr>\n",
       "    <tr>\n",
       "      <th id=\"T_60c83_level0_row1\" class=\"row_heading level0 row1\" >age</th>\n",
       "      <td id=\"T_60c83_row1_col0\" class=\"data row1 col0\" >0.185153</td>\n",
       "      <td id=\"T_60c83_row1_col1\" class=\"data row1 col1\" >1.000000</td>\n",
       "      <td id=\"T_60c83_row1_col2\" class=\"data row1 col2\" >-0.068653</td>\n",
       "      <td id=\"T_60c83_row1_col3\" class=\"data row1 col3\" >0.279321</td>\n",
       "      <td id=\"T_60c83_row1_col4\" class=\"data row1 col4\" >0.213441</td>\n",
       "      <td id=\"T_60c83_row1_col5\" class=\"data row1 col5\" >0.121308</td>\n",
       "      <td id=\"T_60c83_row1_col6\" class=\"data row1 col6\" >-0.116211</td>\n",
       "      <td id=\"T_60c83_row1_col7\" class=\"data row1 col7\" >-0.395265</td>\n",
       "      <td id=\"T_60c83_row1_col8\" class=\"data row1 col8\" >0.096801</td>\n",
       "      <td id=\"T_60c83_row1_col9\" class=\"data row1 col9\" >0.210013</td>\n",
       "      <td id=\"T_60c83_row1_col10\" class=\"data row1 col10\" >-0.168814</td>\n",
       "      <td id=\"T_60c83_row1_col11\" class=\"data row1 col11\" >0.276326</td>\n",
       "      <td id=\"T_60c83_row1_col12\" class=\"data row1 col12\" >0.068001</td>\n",
       "      <td id=\"T_60c83_row1_col13\" class=\"data row1 col13\" >-0.098447</td>\n",
       "      <td id=\"T_60c83_row1_col14\" class=\"data row1 col14\" >-0.225439</td>\n",
       "    </tr>\n",
       "    <tr>\n",
       "      <th id=\"T_60c83_level0_row2\" class=\"row_heading level0 row2\" >cp</th>\n",
       "      <td id=\"T_60c83_row2_col0\" class=\"data row2 col0\" >-0.399163</td>\n",
       "      <td id=\"T_60c83_row2_col1\" class=\"data row2 col1\" >-0.068653</td>\n",
       "      <td id=\"T_60c83_row2_col2\" class=\"data row2 col2\" >1.000000</td>\n",
       "      <td id=\"T_60c83_row2_col3\" class=\"data row2 col3\" >0.047841</td>\n",
       "      <td id=\"T_60c83_row2_col4\" class=\"data row2 col4\" >-0.077894</td>\n",
       "      <td id=\"T_60c83_row2_col5\" class=\"data row2 col5\" >0.094444</td>\n",
       "      <td id=\"T_60c83_row2_col6\" class=\"data row2 col6\" >0.044421</td>\n",
       "      <td id=\"T_60c83_row2_col7\" class=\"data row2 col7\" >0.294571</td>\n",
       "      <td id=\"T_60c83_row2_col8\" class=\"data row2 col8\" >-0.394280</td>\n",
       "      <td id=\"T_60c83_row2_col9\" class=\"data row2 col9\" >-0.149230</td>\n",
       "      <td id=\"T_60c83_row2_col10\" class=\"data row2 col10\" >0.119717</td>\n",
       "      <td id=\"T_60c83_row2_col11\" class=\"data row2 col11\" >-0.181053</td>\n",
       "      <td id=\"T_60c83_row2_col12\" class=\"data row2 col12\" >-0.161736</td>\n",
       "      <td id=\"T_60c83_row2_col13\" class=\"data row2 col13\" >-0.049353</td>\n",
       "      <td id=\"T_60c83_row2_col14\" class=\"data row2 col14\" >0.433798</td>\n",
       "    </tr>\n",
       "    <tr>\n",
       "      <th id=\"T_60c83_level0_row3\" class=\"row_heading level0 row3\" >trestbps</th>\n",
       "      <td id=\"T_60c83_row3_col0\" class=\"data row3 col0\" >0.101697</td>\n",
       "      <td id=\"T_60c83_row3_col1\" class=\"data row3 col1\" >0.279321</td>\n",
       "      <td id=\"T_60c83_row3_col2\" class=\"data row3 col2\" >0.047841</td>\n",
       "      <td id=\"T_60c83_row3_col3\" class=\"data row3 col3\" >1.000000</td>\n",
       "      <td id=\"T_60c83_row3_col4\" class=\"data row3 col4\" >0.124985</td>\n",
       "      <td id=\"T_60c83_row3_col5\" class=\"data row3 col5\" >0.175680</td>\n",
       "      <td id=\"T_60c83_row3_col6\" class=\"data row3 col6\" >-0.110333</td>\n",
       "      <td id=\"T_60c83_row3_col7\" class=\"data row3 col7\" >-0.033744</td>\n",
       "      <td id=\"T_60c83_row3_col8\" class=\"data row3 col8\" >0.069590</td>\n",
       "      <td id=\"T_60c83_row3_col9\" class=\"data row3 col9\" >0.193631</td>\n",
       "      <td id=\"T_60c83_row3_col10\" class=\"data row3 col10\" >-0.120827</td>\n",
       "      <td id=\"T_60c83_row3_col11\" class=\"data row3 col11\" >0.098237</td>\n",
       "      <td id=\"T_60c83_row3_col12\" class=\"data row3 col12\" >0.060232</td>\n",
       "      <td id=\"T_60c83_row3_col13\" class=\"data row3 col13\" >-0.063602</td>\n",
       "      <td id=\"T_60c83_row3_col14\" class=\"data row3 col14\" >-0.141162</td>\n",
       "    </tr>\n",
       "    <tr>\n",
       "      <th id=\"T_60c83_level0_row4\" class=\"row_heading level0 row4\" >chol</th>\n",
       "      <td id=\"T_60c83_row4_col0\" class=\"data row4 col0\" >0.021571</td>\n",
       "      <td id=\"T_60c83_row4_col1\" class=\"data row4 col1\" >0.213441</td>\n",
       "      <td id=\"T_60c83_row4_col2\" class=\"data row4 col2\" >-0.077894</td>\n",
       "      <td id=\"T_60c83_row4_col3\" class=\"data row4 col3\" >0.124985</td>\n",
       "      <td id=\"T_60c83_row4_col4\" class=\"data row4 col4\" >1.000000</td>\n",
       "      <td id=\"T_60c83_row4_col5\" class=\"data row4 col5\" >0.012861</td>\n",
       "      <td id=\"T_60c83_row4_col6\" class=\"data row4 col6\" >-0.150129</td>\n",
       "      <td id=\"T_60c83_row4_col7\" class=\"data row4 col7\" >-0.026034</td>\n",
       "      <td id=\"T_60c83_row4_col8\" class=\"data row4 col8\" >0.066309</td>\n",
       "      <td id=\"T_60c83_row4_col9\" class=\"data row4 col9\" >0.053027</td>\n",
       "      <td id=\"T_60c83_row4_col10\" class=\"data row4 col10\" >-0.003022</td>\n",
       "      <td id=\"T_60c83_row4_col11\" class=\"data row4 col11\" >0.070798</td>\n",
       "      <td id=\"T_60c83_row4_col12\" class=\"data row4 col12\" >0.098285</td>\n",
       "      <td id=\"T_60c83_row4_col13\" class=\"data row4 col13\" >-0.197236</td>\n",
       "      <td id=\"T_60c83_row4_col14\" class=\"data row4 col14\" >-0.086391</td>\n",
       "    </tr>\n",
       "    <tr>\n",
       "      <th id=\"T_60c83_level0_row5\" class=\"row_heading level0 row5\" >fbs</th>\n",
       "      <td id=\"T_60c83_row5_col0\" class=\"data row5 col0\" >0.000743</td>\n",
       "      <td id=\"T_60c83_row5_col1\" class=\"data row5 col1\" >0.121308</td>\n",
       "      <td id=\"T_60c83_row5_col2\" class=\"data row5 col2\" >0.094444</td>\n",
       "      <td id=\"T_60c83_row5_col3\" class=\"data row5 col3\" >0.175680</td>\n",
       "      <td id=\"T_60c83_row5_col4\" class=\"data row5 col4\" >0.012861</td>\n",
       "      <td id=\"T_60c83_row5_col5\" class=\"data row5 col5\" >1.000000</td>\n",
       "      <td id=\"T_60c83_row5_col6\" class=\"data row5 col6\" >-0.084189</td>\n",
       "      <td id=\"T_60c83_row5_col7\" class=\"data row5 col7\" >-0.007874</td>\n",
       "      <td id=\"T_60c83_row5_col8\" class=\"data row5 col8\" >0.025665</td>\n",
       "      <td id=\"T_60c83_row5_col9\" class=\"data row5 col9\" >0.005747</td>\n",
       "      <td id=\"T_60c83_row5_col10\" class=\"data row5 col10\" >-0.059894</td>\n",
       "      <td id=\"T_60c83_row5_col11\" class=\"data row5 col11\" >0.137979</td>\n",
       "      <td id=\"T_60c83_row5_col12\" class=\"data row5 col12\" >-0.032019</td>\n",
       "      <td id=\"T_60c83_row5_col13\" class=\"data row5 col13\" >0.045032</td>\n",
       "      <td id=\"T_60c83_row5_col14\" class=\"data row5 col14\" >-0.028046</td>\n",
       "    </tr>\n",
       "    <tr>\n",
       "      <th id=\"T_60c83_level0_row6\" class=\"row_heading level0 row6\" >restecg</th>\n",
       "      <td id=\"T_60c83_row6_col0\" class=\"data row6 col0\" >-0.021130</td>\n",
       "      <td id=\"T_60c83_row6_col1\" class=\"data row6 col1\" >-0.116211</td>\n",
       "      <td id=\"T_60c83_row6_col2\" class=\"data row6 col2\" >0.044421</td>\n",
       "      <td id=\"T_60c83_row6_col3\" class=\"data row6 col3\" >-0.110333</td>\n",
       "      <td id=\"T_60c83_row6_col4\" class=\"data row6 col4\" >-0.150129</td>\n",
       "      <td id=\"T_60c83_row6_col5\" class=\"data row6 col5\" >-0.084189</td>\n",
       "      <td id=\"T_60c83_row6_col6\" class=\"data row6 col6\" >1.000000</td>\n",
       "      <td id=\"T_60c83_row6_col7\" class=\"data row6 col7\" >0.030022</td>\n",
       "      <td id=\"T_60c83_row6_col8\" class=\"data row6 col8\" >-0.070733</td>\n",
       "      <td id=\"T_60c83_row6_col9\" class=\"data row6 col9\" >-0.058770</td>\n",
       "      <td id=\"T_60c83_row6_col10\" class=\"data row6 col10\" >0.093045</td>\n",
       "      <td id=\"T_60c83_row6_col11\" class=\"data row6 col11\" >-0.072042</td>\n",
       "      <td id=\"T_60c83_row6_col12\" class=\"data row6 col12\" >-0.011981</td>\n",
       "      <td id=\"T_60c83_row6_col13\" class=\"data row6 col13\" >-0.058196</td>\n",
       "      <td id=\"T_60c83_row6_col14\" class=\"data row6 col14\" >0.137230</td>\n",
       "    </tr>\n",
       "    <tr>\n",
       "      <th id=\"T_60c83_level0_row7\" class=\"row_heading level0 row7\" >thalach</th>\n",
       "      <td id=\"T_60c83_row7_col0\" class=\"data row7 col0\" >-0.394192</td>\n",
       "      <td id=\"T_60c83_row7_col1\" class=\"data row7 col1\" >-0.395265</td>\n",
       "      <td id=\"T_60c83_row7_col2\" class=\"data row7 col2\" >0.294571</td>\n",
       "      <td id=\"T_60c83_row7_col3\" class=\"data row7 col3\" >-0.033744</td>\n",
       "      <td id=\"T_60c83_row7_col4\" class=\"data row7 col4\" >-0.026034</td>\n",
       "      <td id=\"T_60c83_row7_col5\" class=\"data row7 col5\" >-0.007874</td>\n",
       "      <td id=\"T_60c83_row7_col6\" class=\"data row7 col6\" >0.030022</td>\n",
       "      <td id=\"T_60c83_row7_col7\" class=\"data row7 col7\" >1.000000</td>\n",
       "      <td id=\"T_60c83_row7_col8\" class=\"data row7 col8\" >-0.383205</td>\n",
       "      <td id=\"T_60c83_row7_col9\" class=\"data row7 col9\" >-0.336662</td>\n",
       "      <td id=\"T_60c83_row7_col10\" class=\"data row7 col10\" >0.372063</td>\n",
       "      <td id=\"T_60c83_row7_col11\" class=\"data row7 col11\" >-0.209948</td>\n",
       "      <td id=\"T_60c83_row7_col12\" class=\"data row7 col12\" >-0.098035</td>\n",
       "      <td id=\"T_60c83_row7_col13\" class=\"data row7 col13\" >-0.048349</td>\n",
       "      <td id=\"T_60c83_row7_col14\" class=\"data row7 col14\" >0.411339</td>\n",
       "    </tr>\n",
       "    <tr>\n",
       "      <th id=\"T_60c83_level0_row8\" class=\"row_heading level0 row8\" >exang</th>\n",
       "      <td id=\"T_60c83_row8_col0\" class=\"data row8 col0\" >0.363788</td>\n",
       "      <td id=\"T_60c83_row8_col1\" class=\"data row8 col1\" >0.096801</td>\n",
       "      <td id=\"T_60c83_row8_col2\" class=\"data row8 col2\" >-0.394280</td>\n",
       "      <td id=\"T_60c83_row8_col3\" class=\"data row8 col3\" >0.069590</td>\n",
       "      <td id=\"T_60c83_row8_col4\" class=\"data row8 col4\" >0.066309</td>\n",
       "      <td id=\"T_60c83_row8_col5\" class=\"data row8 col5\" >0.025665</td>\n",
       "      <td id=\"T_60c83_row8_col6\" class=\"data row8 col6\" >-0.070733</td>\n",
       "      <td id=\"T_60c83_row8_col7\" class=\"data row8 col7\" >-0.383205</td>\n",
       "      <td id=\"T_60c83_row8_col8\" class=\"data row8 col8\" >1.000000</td>\n",
       "      <td id=\"T_60c83_row8_col9\" class=\"data row8 col9\" >0.288223</td>\n",
       "      <td id=\"T_60c83_row8_col10\" class=\"data row8 col10\" >-0.257748</td>\n",
       "      <td id=\"T_60c83_row8_col11\" class=\"data row8 col11\" >0.115739</td>\n",
       "      <td id=\"T_60c83_row8_col12\" class=\"data row8 col12\" >0.206754</td>\n",
       "      <td id=\"T_60c83_row8_col13\" class=\"data row8 col13\" >0.141664</td>\n",
       "      <td id=\"T_60c83_row8_col14\" class=\"data row8 col14\" >-0.436757</td>\n",
       "    </tr>\n",
       "    <tr>\n",
       "      <th id=\"T_60c83_level0_row9\" class=\"row_heading level0 row9\" >oldpeak</th>\n",
       "      <td id=\"T_60c83_row9_col0\" class=\"data row9 col0\" >0.298161</td>\n",
       "      <td id=\"T_60c83_row9_col1\" class=\"data row9 col1\" >0.210013</td>\n",
       "      <td id=\"T_60c83_row9_col2\" class=\"data row9 col2\" >-0.149230</td>\n",
       "      <td id=\"T_60c83_row9_col3\" class=\"data row9 col3\" >0.193631</td>\n",
       "      <td id=\"T_60c83_row9_col4\" class=\"data row9 col4\" >0.053027</td>\n",
       "      <td id=\"T_60c83_row9_col5\" class=\"data row9 col5\" >0.005747</td>\n",
       "      <td id=\"T_60c83_row9_col6\" class=\"data row9 col6\" >-0.058770</td>\n",
       "      <td id=\"T_60c83_row9_col7\" class=\"data row9 col7\" >-0.336662</td>\n",
       "      <td id=\"T_60c83_row9_col8\" class=\"data row9 col8\" >0.288223</td>\n",
       "      <td id=\"T_60c83_row9_col9\" class=\"data row9 col9\" >1.000000</td>\n",
       "      <td id=\"T_60c83_row9_col10\" class=\"data row9 col10\" >-0.577537</td>\n",
       "      <td id=\"T_60c83_row9_col11\" class=\"data row9 col11\" >0.222682</td>\n",
       "      <td id=\"T_60c83_row9_col12\" class=\"data row9 col12\" >0.210244</td>\n",
       "      <td id=\"T_60c83_row9_col13\" class=\"data row9 col13\" >0.096093</td>\n",
       "      <td id=\"T_60c83_row9_col14\" class=\"data row9 col14\" >-0.430696</td>\n",
       "    </tr>\n",
       "    <tr>\n",
       "      <th id=\"T_60c83_level0_row10\" class=\"row_heading level0 row10\" >slope</th>\n",
       "      <td id=\"T_60c83_row10_col0\" class=\"data row10 col0\" >-0.276484</td>\n",
       "      <td id=\"T_60c83_row10_col1\" class=\"data row10 col1\" >-0.168814</td>\n",
       "      <td id=\"T_60c83_row10_col2\" class=\"data row10 col2\" >0.119717</td>\n",
       "      <td id=\"T_60c83_row10_col3\" class=\"data row10 col3\" >-0.120827</td>\n",
       "      <td id=\"T_60c83_row10_col4\" class=\"data row10 col4\" >-0.003022</td>\n",
       "      <td id=\"T_60c83_row10_col5\" class=\"data row10 col5\" >-0.059894</td>\n",
       "      <td id=\"T_60c83_row10_col6\" class=\"data row10 col6\" >0.093045</td>\n",
       "      <td id=\"T_60c83_row10_col7\" class=\"data row10 col7\" >0.372063</td>\n",
       "      <td id=\"T_60c83_row10_col8\" class=\"data row10 col8\" >-0.257748</td>\n",
       "      <td id=\"T_60c83_row10_col9\" class=\"data row10 col9\" >-0.577537</td>\n",
       "      <td id=\"T_60c83_row10_col10\" class=\"data row10 col10\" >1.000000</td>\n",
       "      <td id=\"T_60c83_row10_col11\" class=\"data row10 col11\" >-0.080155</td>\n",
       "      <td id=\"T_60c83_row10_col12\" class=\"data row10 col12\" >-0.104764</td>\n",
       "      <td id=\"T_60c83_row10_col13\" class=\"data row10 col13\" >-0.030711</td>\n",
       "      <td id=\"T_60c83_row10_col14\" class=\"data row10 col14\" >0.345877</td>\n",
       "    </tr>\n",
       "    <tr>\n",
       "      <th id=\"T_60c83_level0_row11\" class=\"row_heading level0 row11\" >ca</th>\n",
       "      <td id=\"T_60c83_row11_col0\" class=\"data row11 col0\" >0.384962</td>\n",
       "      <td id=\"T_60c83_row11_col1\" class=\"data row11 col1\" >0.276326</td>\n",
       "      <td id=\"T_60c83_row11_col2\" class=\"data row11 col2\" >-0.181053</td>\n",
       "      <td id=\"T_60c83_row11_col3\" class=\"data row11 col3\" >0.098237</td>\n",
       "      <td id=\"T_60c83_row11_col4\" class=\"data row11 col4\" >0.070798</td>\n",
       "      <td id=\"T_60c83_row11_col5\" class=\"data row11 col5\" >0.137979</td>\n",
       "      <td id=\"T_60c83_row11_col6\" class=\"data row11 col6\" >-0.072042</td>\n",
       "      <td id=\"T_60c83_row11_col7\" class=\"data row11 col7\" >-0.209948</td>\n",
       "      <td id=\"T_60c83_row11_col8\" class=\"data row11 col8\" >0.115739</td>\n",
       "      <td id=\"T_60c83_row11_col9\" class=\"data row11 col9\" >0.222682</td>\n",
       "      <td id=\"T_60c83_row11_col10\" class=\"data row11 col10\" >-0.080155</td>\n",
       "      <td id=\"T_60c83_row11_col11\" class=\"data row11 col11\" >1.000000</td>\n",
       "      <td id=\"T_60c83_row11_col12\" class=\"data row11 col12\" >0.151832</td>\n",
       "      <td id=\"T_60c83_row11_col13\" class=\"data row11 col13\" >0.118261</td>\n",
       "      <td id=\"T_60c83_row11_col14\" class=\"data row11 col14\" >-0.391724</td>\n",
       "    </tr>\n",
       "    <tr>\n",
       "      <th id=\"T_60c83_level0_row12\" class=\"row_heading level0 row12\" >thal</th>\n",
       "      <td id=\"T_60c83_row12_col0\" class=\"data row12 col0\" >0.257403</td>\n",
       "      <td id=\"T_60c83_row12_col1\" class=\"data row12 col1\" >0.068001</td>\n",
       "      <td id=\"T_60c83_row12_col2\" class=\"data row12 col2\" >-0.161736</td>\n",
       "      <td id=\"T_60c83_row12_col3\" class=\"data row12 col3\" >0.060232</td>\n",
       "      <td id=\"T_60c83_row12_col4\" class=\"data row12 col4\" >0.098285</td>\n",
       "      <td id=\"T_60c83_row12_col5\" class=\"data row12 col5\" >-0.032019</td>\n",
       "      <td id=\"T_60c83_row12_col6\" class=\"data row12 col6\" >-0.011981</td>\n",
       "      <td id=\"T_60c83_row12_col7\" class=\"data row12 col7\" >-0.098035</td>\n",
       "      <td id=\"T_60c83_row12_col8\" class=\"data row12 col8\" >0.206754</td>\n",
       "      <td id=\"T_60c83_row12_col9\" class=\"data row12 col9\" >0.210244</td>\n",
       "      <td id=\"T_60c83_row12_col10\" class=\"data row12 col10\" >-0.104764</td>\n",
       "      <td id=\"T_60c83_row12_col11\" class=\"data row12 col11\" >0.151832</td>\n",
       "      <td id=\"T_60c83_row12_col12\" class=\"data row12 col12\" >1.000000</td>\n",
       "      <td id=\"T_60c83_row12_col13\" class=\"data row12 col13\" >0.210041</td>\n",
       "      <td id=\"T_60c83_row12_col14\" class=\"data row12 col14\" >-0.344029</td>\n",
       "    </tr>\n",
       "    <tr>\n",
       "      <th id=\"T_60c83_level0_row13\" class=\"row_heading level0 row13\" >sex_num</th>\n",
       "      <td id=\"T_60c83_row13_col0\" class=\"data row13 col0\" >0.201132</td>\n",
       "      <td id=\"T_60c83_row13_col1\" class=\"data row13 col1\" >-0.098447</td>\n",
       "      <td id=\"T_60c83_row13_col2\" class=\"data row13 col2\" >-0.049353</td>\n",
       "      <td id=\"T_60c83_row13_col3\" class=\"data row13 col3\" >-0.063602</td>\n",
       "      <td id=\"T_60c83_row13_col4\" class=\"data row13 col4\" >-0.197236</td>\n",
       "      <td id=\"T_60c83_row13_col5\" class=\"data row13 col5\" >0.045032</td>\n",
       "      <td id=\"T_60c83_row13_col6\" class=\"data row13 col6\" >-0.058196</td>\n",
       "      <td id=\"T_60c83_row13_col7\" class=\"data row13 col7\" >-0.048349</td>\n",
       "      <td id=\"T_60c83_row13_col8\" class=\"data row13 col8\" >0.141664</td>\n",
       "      <td id=\"T_60c83_row13_col9\" class=\"data row13 col9\" >0.096093</td>\n",
       "      <td id=\"T_60c83_row13_col10\" class=\"data row13 col10\" >-0.030711</td>\n",
       "      <td id=\"T_60c83_row13_col11\" class=\"data row13 col11\" >0.118261</td>\n",
       "      <td id=\"T_60c83_row13_col12\" class=\"data row13 col12\" >0.210041</td>\n",
       "      <td id=\"T_60c83_row13_col13\" class=\"data row13 col13\" >1.000000</td>\n",
       "      <td id=\"T_60c83_row13_col14\" class=\"data row13 col14\" >-0.280937</td>\n",
       "    </tr>\n",
       "    <tr>\n",
       "      <th id=\"T_60c83_level0_row14\" class=\"row_heading level0 row14\" >target_num</th>\n",
       "      <td id=\"T_60c83_row14_col0\" class=\"data row14 col0\" >-0.862585</td>\n",
       "      <td id=\"T_60c83_row14_col1\" class=\"data row14 col1\" >-0.225439</td>\n",
       "      <td id=\"T_60c83_row14_col2\" class=\"data row14 col2\" >0.433798</td>\n",
       "      <td id=\"T_60c83_row14_col3\" class=\"data row14 col3\" >-0.141162</td>\n",
       "      <td id=\"T_60c83_row14_col4\" class=\"data row14 col4\" >-0.086391</td>\n",
       "      <td id=\"T_60c83_row14_col5\" class=\"data row14 col5\" >-0.028046</td>\n",
       "      <td id=\"T_60c83_row14_col6\" class=\"data row14 col6\" >0.137230</td>\n",
       "      <td id=\"T_60c83_row14_col7\" class=\"data row14 col7\" >0.411339</td>\n",
       "      <td id=\"T_60c83_row14_col8\" class=\"data row14 col8\" >-0.436757</td>\n",
       "      <td id=\"T_60c83_row14_col9\" class=\"data row14 col9\" >-0.430696</td>\n",
       "      <td id=\"T_60c83_row14_col10\" class=\"data row14 col10\" >0.345877</td>\n",
       "      <td id=\"T_60c83_row14_col11\" class=\"data row14 col11\" >-0.391724</td>\n",
       "      <td id=\"T_60c83_row14_col12\" class=\"data row14 col12\" >-0.344029</td>\n",
       "      <td id=\"T_60c83_row14_col13\" class=\"data row14 col13\" >-0.280937</td>\n",
       "      <td id=\"T_60c83_row14_col14\" class=\"data row14 col14\" >1.000000</td>\n",
       "    </tr>\n",
       "  </tbody>\n",
       "</table>\n"
      ],
      "text/plain": [
       "<pandas.io.formats.style.Styler at 0x7fa269712fd0>"
      ]
     },
     "execution_count": 13,
     "metadata": {},
     "output_type": "execute_result"
    }
   ],
   "source": [
    "corr = df.corr()\n",
    "corr.style.background_gradient(cmap='coolwarm')"
   ]
  },
  {
   "cell_type": "markdown",
   "id": "6a1ff7a0",
   "metadata": {
    "papermill": {
     "duration": 0.016802,
     "end_time": "2022-12-08T04:28:02.184841",
     "exception": false,
     "start_time": "2022-12-08T04:28:02.168039",
     "status": "completed"
    },
    "tags": []
   },
   "source": [
    "Correlation doesn't seem to be a problem. Only a few such as slope and oldpeak have more than 0.5 correlation."
   ]
  },
  {
   "cell_type": "code",
   "execution_count": null,
   "id": "d1a98752",
   "metadata": {
    "papermill": {
     "duration": 0.016242,
     "end_time": "2022-12-08T04:28:02.217679",
     "exception": false,
     "start_time": "2022-12-08T04:28:02.201437",
     "status": "completed"
    },
    "tags": []
   },
   "outputs": [],
   "source": []
  },
  {
   "cell_type": "markdown",
   "id": "75e25ad1",
   "metadata": {
    "papermill": {
     "duration": 0.016314,
     "end_time": "2022-12-08T04:28:02.250583",
     "exception": false,
     "start_time": "2022-12-08T04:28:02.234269",
     "status": "completed"
    },
    "tags": []
   },
   "source": [
    "# Classification\n",
    "\n",
    "Now let's create a training and testing splits of data and do the first classification based on that."
   ]
  },
  {
   "cell_type": "code",
   "execution_count": 14,
   "id": "ef8edf46",
   "metadata": {
    "execution": {
     "iopub.execute_input": "2022-12-08T04:28:02.286186Z",
     "iopub.status.busy": "2022-12-08T04:28:02.285737Z",
     "iopub.status.idle": "2022-12-08T04:28:02.295246Z",
     "shell.execute_reply": "2022-12-08T04:28:02.294141Z"
    },
    "papermill": {
     "duration": 0.030398,
     "end_time": "2022-12-08T04:28:02.297653",
     "exception": false,
     "start_time": "2022-12-08T04:28:02.267255",
     "status": "completed"
    },
    "tags": []
   },
   "outputs": [],
   "source": [
    "label = df['target_num']\n",
    "df_no_label = df.drop(columns=['target_num'])\n",
    "df_no_label = df_no_label.drop(columns=['Unnamed: 0'])\n",
    "\n",
    "X_train, X_test, y_train, y_test = train_test_split(df_no_label, label, test_size=0.2, random_state=42)"
   ]
  },
  {
   "cell_type": "markdown",
   "id": "2ce78a06",
   "metadata": {
    "papermill": {
     "duration": 0.016571,
     "end_time": "2022-12-08T04:28:02.331388",
     "exception": false,
     "start_time": "2022-12-08T04:28:02.314817",
     "status": "completed"
    },
    "tags": []
   },
   "source": [
    "## Testing with SVM\n"
   ]
  },
  {
   "cell_type": "code",
   "execution_count": 15,
   "id": "09826c59",
   "metadata": {
    "execution": {
     "iopub.execute_input": "2022-12-08T04:28:02.366679Z",
     "iopub.status.busy": "2022-12-08T04:28:02.366274Z",
     "iopub.status.idle": "2022-12-08T04:28:02.615193Z",
     "shell.execute_reply": "2022-12-08T04:28:02.613876Z"
    },
    "papermill": {
     "duration": 0.269652,
     "end_time": "2022-12-08T04:28:02.617789",
     "exception": false,
     "start_time": "2022-12-08T04:28:02.348137",
     "status": "completed"
    },
    "tags": []
   },
   "outputs": [
    {
     "name": "stdout",
     "output_type": "stream",
     "text": [
      "0.9504132231404959\n",
      "1.0\n",
      "[0. 1.]\n"
     ]
    },
    {
     "data": {
      "image/png": "[encoded data removed]",
      "text/plain": [
       "<Figure size 1440x360 with 1 Axes>"
      ]
     },
     "metadata": {
      "needs_background": "light"
     },
     "output_type": "display_data"
    }
   ],
   "source": [
    "from sklearn.pipeline import make_pipeline\n",
    "from sklearn.preprocessing import StandardScaler\n",
    "clf = make_pipeline(StandardScaler(), SVC(kernel = 'linear'))\n",
    "clf.fit(X_train, y_train)\n",
    "dec = clf.decision_function(X_train)\n",
    "np.shape(dec)\n",
    "def evaluate(dec,y_train):\n",
    "    dec = [1.0 if dec[i]>0 else 0  for i in range(0,len(dec)) ]\n",
    "    n_errors = np.abs(np.sum(dec-y_train))\n",
    "    acc = (len(dec)-n_errors)/len(dec)\n",
    "    print(acc)\n",
    "evaluate(dec,y_train)\n",
    "dec_test = clf.decision_function(X_test)\n",
    "evaluate(dec_test,y_test)\n",
    "dec_test = [1.0 if dec_test[i]>0 else 0  for i in range(0,len(dec_test)) ]\n",
    "\n",
    "def plot_coeffs(clf,X_train):\n",
    "  columns = list(X_train.columns.values)\n",
    "  plt.figure(figsize=(20,5))\n",
    "  plt.bar(columns,np.abs(clf.coef_[0,:]))\n",
    "  plt.title(clf.classes_[0])\n",
    "\n",
    "  print(clf.classes_)\n",
    "plot_coeffs(clf[1],X_train)\n"
   ]
  },
  {
   "cell_type": "code",
   "execution_count": 16,
   "id": "df6d1736",
   "metadata": {
    "execution": {
     "iopub.execute_input": "2022-12-08T04:28:02.655273Z",
     "iopub.status.busy": "2022-12-08T04:28:02.654487Z",
     "iopub.status.idle": "2022-12-08T04:28:02.671979Z",
     "shell.execute_reply": "2022-12-08T04:28:02.670830Z"
    },
    "papermill": {
     "duration": 0.039207,
     "end_time": "2022-12-08T04:28:02.674617",
     "exception": false,
     "start_time": "2022-12-08T04:28:02.635410",
     "status": "completed"
    },
    "tags": []
   },
   "outputs": [
    {
     "data": {
      "text/html": [
       "<div>\n",
       "<style scoped>\n",
       "    .dataframe tbody tr th:only-of-type {\n",
       "        vertical-align: middle;\n",
       "    }\n",
       "\n",
       "    .dataframe tbody tr th {\n",
       "        vertical-align: top;\n",
       "    }\n",
       "\n",
       "    .dataframe thead th {\n",
       "        text-align: right;\n",
       "    }\n",
       "</style>\n",
       "<table border=\"1\" class=\"dataframe\">\n",
       "  <thead>\n",
       "    <tr style=\"text-align: right;\">\n",
       "      <th></th>\n",
       "      <th>age</th>\n",
       "      <th>cp</th>\n",
       "      <th>trestbps</th>\n",
       "      <th>chol</th>\n",
       "      <th>fbs</th>\n",
       "      <th>restecg</th>\n",
       "      <th>thalach</th>\n",
       "      <th>exang</th>\n",
       "      <th>oldpeak</th>\n",
       "      <th>slope</th>\n",
       "      <th>ca</th>\n",
       "      <th>thal</th>\n",
       "      <th>sex_num</th>\n",
       "    </tr>\n",
       "  </thead>\n",
       "  <tbody>\n",
       "    <tr>\n",
       "      <th>132</th>\n",
       "      <td>42</td>\n",
       "      <td>1</td>\n",
       "      <td>120.0</td>\n",
       "      <td>295.0</td>\n",
       "      <td>0</td>\n",
       "      <td>1</td>\n",
       "      <td>162.0</td>\n",
       "      <td>0</td>\n",
       "      <td>0.0</td>\n",
       "      <td>2</td>\n",
       "      <td>0</td>\n",
       "      <td>2</td>\n",
       "      <td>1.0</td>\n",
       "    </tr>\n",
       "    <tr>\n",
       "      <th>202</th>\n",
       "      <td>58</td>\n",
       "      <td>0</td>\n",
       "      <td>150.0</td>\n",
       "      <td>270.0</td>\n",
       "      <td>0</td>\n",
       "      <td>0</td>\n",
       "      <td>111.0</td>\n",
       "      <td>1</td>\n",
       "      <td>0.8</td>\n",
       "      <td>2</td>\n",
       "      <td>0</td>\n",
       "      <td>3</td>\n",
       "      <td>1.0</td>\n",
       "    </tr>\n",
       "    <tr>\n",
       "      <th>196</th>\n",
       "      <td>46</td>\n",
       "      <td>2</td>\n",
       "      <td>150.0</td>\n",
       "      <td>231.0</td>\n",
       "      <td>0</td>\n",
       "      <td>1</td>\n",
       "      <td>147.0</td>\n",
       "      <td>0</td>\n",
       "      <td>3.6</td>\n",
       "      <td>1</td>\n",
       "      <td>0</td>\n",
       "      <td>2</td>\n",
       "      <td>1.0</td>\n",
       "    </tr>\n",
       "    <tr>\n",
       "      <th>75</th>\n",
       "      <td>55</td>\n",
       "      <td>1</td>\n",
       "      <td>135.0</td>\n",
       "      <td>250.0</td>\n",
       "      <td>0</td>\n",
       "      <td>0</td>\n",
       "      <td>161.0</td>\n",
       "      <td>0</td>\n",
       "      <td>1.4</td>\n",
       "      <td>1</td>\n",
       "      <td>0</td>\n",
       "      <td>2</td>\n",
       "      <td>0.0</td>\n",
       "    </tr>\n",
       "    <tr>\n",
       "      <th>176</th>\n",
       "      <td>60</td>\n",
       "      <td>0</td>\n",
       "      <td>117.0</td>\n",
       "      <td>230.0</td>\n",
       "      <td>1</td>\n",
       "      <td>1</td>\n",
       "      <td>160.0</td>\n",
       "      <td>1</td>\n",
       "      <td>1.4</td>\n",
       "      <td>2</td>\n",
       "      <td>2</td>\n",
       "      <td>3</td>\n",
       "      <td>1.0</td>\n",
       "    </tr>\n",
       "  </tbody>\n",
       "</table>\n",
       "</div>"
      ],
      "text/plain": [
       "     age  cp  trestbps   chol  fbs  restecg  thalach  exang  oldpeak  slope  \\\n",
       "132   42   1     120.0  295.0    0        1    162.0      0      0.0      2   \n",
       "202   58   0     150.0  270.0    0        0    111.0      1      0.8      2   \n",
       "196   46   2     150.0  231.0    0        1    147.0      0      3.6      1   \n",
       "75    55   1     135.0  250.0    0        0    161.0      0      1.4      1   \n",
       "176   60   0     117.0  230.0    1        1    160.0      1      1.4      2   \n",
       "\n",
       "     ca  thal  sex_num  \n",
       "132   0     2      1.0  \n",
       "202   0     3      1.0  \n",
       "196   0     2      1.0  \n",
       "75    0     2      0.0  \n",
       "176   2     3      1.0  "
      ]
     },
     "execution_count": 16,
     "metadata": {},
     "output_type": "execute_result"
    }
   ],
   "source": [
    "X_train.head()"
   ]
  },
  {
   "cell_type": "markdown",
   "id": "d1e8dd17",
   "metadata": {
    "papermill": {
     "duration": 0.017486,
     "end_time": "2022-12-08T04:28:02.709924",
     "exception": false,
     "start_time": "2022-12-08T04:28:02.692438",
     "status": "completed"
    },
    "tags": []
   },
   "source": [
    "# Check Logistic Regression"
   ]
  },
  {
   "cell_type": "code",
   "execution_count": 17,
   "id": "ee70dfb5",
   "metadata": {
    "execution": {
     "iopub.execute_input": "2022-12-08T04:28:02.747878Z",
     "iopub.status.busy": "2022-12-08T04:28:02.747006Z",
     "iopub.status.idle": "2022-12-08T04:28:02.839099Z",
     "shell.execute_reply": "2022-12-08T04:28:02.837894Z"
    },
    "papermill": {
     "duration": 0.114054,
     "end_time": "2022-12-08T04:28:02.841744",
     "exception": false,
     "start_time": "2022-12-08T04:28:02.727690",
     "status": "completed"
    },
    "tags": []
   },
   "outputs": [
    {
     "name": "stdout",
     "output_type": "stream",
     "text": [
      "0.9545454545454546\n",
      "0.9836065573770492\n"
     ]
    }
   ],
   "source": [
    "from sklearn.datasets import load_iris\n",
    "from sklearn.linear_model import LogisticRegression\n",
    "\n",
    "LR_pipe = make_pipeline(StandardScaler(), LogisticRegression(random_state=0))\n",
    "\n",
    "LR = LR_pipe.fit(X_train, y_train)\n",
    "dec_train_LR = LR.predict(X_train)\n",
    "dec_test_LR = LR.predict(X_test)\n",
    "\n",
    "evaluate(dec_train_LR,y_train)\n",
    "evaluate(dec_test_LR,y_test)\n",
    "\n"
   ]
  },
  {
   "cell_type": "markdown",
   "id": "f3218996",
   "metadata": {
    "papermill": {
     "duration": 0.017368,
     "end_time": "2022-12-08T04:28:02.877032",
     "exception": false,
     "start_time": "2022-12-08T04:28:02.859664",
     "status": "completed"
    },
    "tags": []
   },
   "source": []
  },
  {
   "cell_type": "code",
   "execution_count": 18,
   "id": "13052ca0",
   "metadata": {
    "execution": {
     "iopub.execute_input": "2022-12-08T04:28:02.914128Z",
     "iopub.status.busy": "2022-12-08T04:28:02.913659Z",
     "iopub.status.idle": "2022-12-08T04:28:03.178914Z",
     "shell.execute_reply": "2022-12-08T04:28:03.177525Z"
    },
    "papermill": {
     "duration": 0.28656,
     "end_time": "2022-12-08T04:28:03.181220",
     "exception": false,
     "start_time": "2022-12-08T04:28:02.894660",
     "status": "completed"
    },
    "tags": []
   },
   "outputs": [
    {
     "name": "stderr",
     "output_type": "stream",
     "text": [
      "/opt/conda/lib/python3.7/site-packages/sklearn/linear_model/_logistic.py:818: ConvergenceWarning: lbfgs failed to converge (status=1):\n",
      "STOP: TOTAL NO. of ITERATIONS REACHED LIMIT.\n",
      "\n",
      "Increase the number of iterations (max_iter) or scale the data as shown in:\n",
      "    https://scikit-learn.org/stable/modules/preprocessing.html\n",
      "Please also refer to the documentation for alternative solver options:\n",
      "    https://scikit-learn.org/stable/modules/linear_model.html#logistic-regression\n",
      "  extra_warning_msg=_LOGISTIC_SOLVER_CONVERGENCE_MSG,\n"
     ]
    },
    {
     "data": {
      "text/plain": [
       "{'KNN': 0.639344262295082,\n",
       " 'Logistic Regression': 0.8852459016393442,\n",
       " 'Random Forest': 0.8524590163934426}"
      ]
     },
     "execution_count": 18,
     "metadata": {},
     "output_type": "execute_result"
    }
   ],
   "source": [
    "from sklearn.linear_model import LogisticRegression\n",
    "from sklearn.neighbors import KNeighborsClassifier\n",
    "from sklearn.ensemble import RandomForestClassifier\n",
    "# Put models in a dictionary\n",
    "models = {\"KNN\": KNeighborsClassifier(),\n",
    "          \"Logistic Regression\": LogisticRegression(), \n",
    "          \"Random Forest\": RandomForestClassifier()}\n",
    "\n",
    "# Create function to fit and score models\n",
    "def fit_and_score(models, X_train, X_test, y_train, y_test):\n",
    "    \"\"\"\n",
    "    Fits and evaluates given machine learning models.\n",
    "    models : a dict of different Scikit-Learn machine learning models\n",
    "    X_train : training data\n",
    "    X_test : testing data\n",
    "    y_train : labels assosciated with training data\n",
    "    y_test : labels assosciated with test data\n",
    "    \"\"\"\n",
    "    # Random seed for reproducible results\n",
    "    np.random.seed(42)\n",
    "    # Make a list to keep model scores\n",
    "    model_scores = {}\n",
    "    # Loop through models\n",
    "    for name, model in models.items():\n",
    "        # Fit the model to the data\n",
    "        model.fit(X_train, y_train)\n",
    "        # Evaluate the model and append its score to model_scores\n",
    "        model_scores[name] = model.score(X_test, y_test)\n",
    "    return model_scores\n",
    "\n",
    "model_scores = fit_and_score(models=models,\n",
    "                             X_train=X_train,\n",
    "                             X_test=X_test,\n",
    "                             y_train=y_train,\n",
    "                             y_test=y_test)\n",
    "model_scores"
   ]
  },
  {
   "cell_type": "markdown",
   "id": "f66880ed",
   "metadata": {
    "papermill": {
     "duration": 0.0174,
     "end_time": "2022-12-08T04:28:03.216330",
     "exception": false,
     "start_time": "2022-12-08T04:28:03.198930",
     "status": "completed"
    },
    "tags": []
   },
   "source": [
    "Check some of the parameters with respect to the target."
   ]
  },
  {
   "cell_type": "code",
   "execution_count": 19,
   "id": "3aae6404",
   "metadata": {
    "execution": {
     "iopub.execute_input": "2022-12-08T04:28:03.254303Z",
     "iopub.status.busy": "2022-12-08T04:28:03.253852Z",
     "iopub.status.idle": "2022-12-08T04:28:03.278537Z",
     "shell.execute_reply": "2022-12-08T04:28:03.277658Z"
    },
    "papermill": {
     "duration": 0.046106,
     "end_time": "2022-12-08T04:28:03.280655",
     "exception": false,
     "start_time": "2022-12-08T04:28:03.234549",
     "status": "completed"
    },
    "tags": []
   },
   "outputs": [
    {
     "data": {
      "text/html": [
       "<div>\n",
       "<style scoped>\n",
       "    .dataframe tbody tr th:only-of-type {\n",
       "        vertical-align: middle;\n",
       "    }\n",
       "\n",
       "    .dataframe tbody tr th {\n",
       "        vertical-align: top;\n",
       "    }\n",
       "\n",
       "    .dataframe thead th {\n",
       "        text-align: right;\n",
       "    }\n",
       "</style>\n",
       "<table border=\"1\" class=\"dataframe\">\n",
       "  <thead>\n",
       "    <tr style=\"text-align: right;\">\n",
       "      <th>target_num</th>\n",
       "      <th>0.0</th>\n",
       "      <th>1.0</th>\n",
       "    </tr>\n",
       "    <tr>\n",
       "      <th>sex_num</th>\n",
       "      <th></th>\n",
       "      <th></th>\n",
       "    </tr>\n",
       "  </thead>\n",
       "  <tbody>\n",
       "    <tr>\n",
       "      <th>0.0</th>\n",
       "      <td>24</td>\n",
       "      <td>72</td>\n",
       "    </tr>\n",
       "    <tr>\n",
       "      <th>1.0</th>\n",
       "      <td>114</td>\n",
       "      <td>93</td>\n",
       "    </tr>\n",
       "  </tbody>\n",
       "</table>\n",
       "</div>"
      ],
      "text/plain": [
       "target_num  0.0  1.0\n",
       "sex_num             \n",
       "0.0          24   72\n",
       "1.0         114   93"
      ]
     },
     "execution_count": 19,
     "metadata": {},
     "output_type": "execute_result"
    }
   ],
   "source": [
    "pd.crosstab(df[\"sex_num\"], df[\"target_num\"])"
   ]
  },
  {
   "cell_type": "code",
   "execution_count": 20,
   "id": "48932fc2",
   "metadata": {
    "execution": {
     "iopub.execute_input": "2022-12-08T04:28:03.318719Z",
     "iopub.status.busy": "2022-12-08T04:28:03.317963Z",
     "iopub.status.idle": "2022-12-08T04:28:03.339845Z",
     "shell.execute_reply": "2022-12-08T04:28:03.338769Z"
    },
    "papermill": {
     "duration": 0.043566,
     "end_time": "2022-12-08T04:28:03.342260",
     "exception": false,
     "start_time": "2022-12-08T04:28:03.298694",
     "status": "completed"
    },
    "tags": []
   },
   "outputs": [
    {
     "data": {
      "text/html": [
       "<div>\n",
       "<style scoped>\n",
       "    .dataframe tbody tr th:only-of-type {\n",
       "        vertical-align: middle;\n",
       "    }\n",
       "\n",
       "    .dataframe tbody tr th {\n",
       "        vertical-align: top;\n",
       "    }\n",
       "\n",
       "    .dataframe thead th {\n",
       "        text-align: right;\n",
       "    }\n",
       "</style>\n",
       "<table border=\"1\" class=\"dataframe\">\n",
       "  <thead>\n",
       "    <tr style=\"text-align: right;\">\n",
       "      <th>target_num</th>\n",
       "      <th>0.0</th>\n",
       "      <th>1.0</th>\n",
       "    </tr>\n",
       "    <tr>\n",
       "      <th>age</th>\n",
       "      <th></th>\n",
       "      <th></th>\n",
       "    </tr>\n",
       "  </thead>\n",
       "  <tbody>\n",
       "    <tr>\n",
       "      <th>29</th>\n",
       "      <td>0</td>\n",
       "      <td>1</td>\n",
       "    </tr>\n",
       "    <tr>\n",
       "      <th>34</th>\n",
       "      <td>0</td>\n",
       "      <td>2</td>\n",
       "    </tr>\n",
       "    <tr>\n",
       "      <th>35</th>\n",
       "      <td>2</td>\n",
       "      <td>2</td>\n",
       "    </tr>\n",
       "    <tr>\n",
       "      <th>37</th>\n",
       "      <td>0</td>\n",
       "      <td>2</td>\n",
       "    </tr>\n",
       "    <tr>\n",
       "      <th>38</th>\n",
       "      <td>1</td>\n",
       "      <td>2</td>\n",
       "    </tr>\n",
       "    <tr>\n",
       "      <th>39</th>\n",
       "      <td>1</td>\n",
       "      <td>3</td>\n",
       "    </tr>\n",
       "    <tr>\n",
       "      <th>40</th>\n",
       "      <td>2</td>\n",
       "      <td>1</td>\n",
       "    </tr>\n",
       "    <tr>\n",
       "      <th>41</th>\n",
       "      <td>1</td>\n",
       "      <td>9</td>\n",
       "    </tr>\n",
       "    <tr>\n",
       "      <th>42</th>\n",
       "      <td>1</td>\n",
       "      <td>7</td>\n",
       "    </tr>\n",
       "    <tr>\n",
       "      <th>43</th>\n",
       "      <td>3</td>\n",
       "      <td>5</td>\n",
       "    </tr>\n",
       "    <tr>\n",
       "      <th>44</th>\n",
       "      <td>3</td>\n",
       "      <td>8</td>\n",
       "    </tr>\n",
       "    <tr>\n",
       "      <th>45</th>\n",
       "      <td>2</td>\n",
       "      <td>6</td>\n",
       "    </tr>\n",
       "    <tr>\n",
       "      <th>46</th>\n",
       "      <td>3</td>\n",
       "      <td>4</td>\n",
       "    </tr>\n",
       "    <tr>\n",
       "      <th>47</th>\n",
       "      <td>2</td>\n",
       "      <td>3</td>\n",
       "    </tr>\n",
       "    <tr>\n",
       "      <th>48</th>\n",
       "      <td>3</td>\n",
       "      <td>4</td>\n",
       "    </tr>\n",
       "    <tr>\n",
       "      <th>49</th>\n",
       "      <td>2</td>\n",
       "      <td>3</td>\n",
       "    </tr>\n",
       "    <tr>\n",
       "      <th>50</th>\n",
       "      <td>3</td>\n",
       "      <td>4</td>\n",
       "    </tr>\n",
       "    <tr>\n",
       "      <th>51</th>\n",
       "      <td>3</td>\n",
       "      <td>9</td>\n",
       "    </tr>\n",
       "    <tr>\n",
       "      <th>52</th>\n",
       "      <td>4</td>\n",
       "      <td>9</td>\n",
       "    </tr>\n",
       "    <tr>\n",
       "      <th>53</th>\n",
       "      <td>2</td>\n",
       "      <td>6</td>\n",
       "    </tr>\n",
       "    <tr>\n",
       "      <th>54</th>\n",
       "      <td>6</td>\n",
       "      <td>10</td>\n",
       "    </tr>\n",
       "    <tr>\n",
       "      <th>55</th>\n",
       "      <td>5</td>\n",
       "      <td>3</td>\n",
       "    </tr>\n",
       "    <tr>\n",
       "      <th>56</th>\n",
       "      <td>6</td>\n",
       "      <td>5</td>\n",
       "    </tr>\n",
       "    <tr>\n",
       "      <th>57</th>\n",
       "      <td>10</td>\n",
       "      <td>7</td>\n",
       "    </tr>\n",
       "    <tr>\n",
       "      <th>58</th>\n",
       "      <td>12</td>\n",
       "      <td>7</td>\n",
       "    </tr>\n",
       "    <tr>\n",
       "      <th>59</th>\n",
       "      <td>9</td>\n",
       "      <td>5</td>\n",
       "    </tr>\n",
       "    <tr>\n",
       "      <th>60</th>\n",
       "      <td>8</td>\n",
       "      <td>3</td>\n",
       "    </tr>\n",
       "    <tr>\n",
       "      <th>61</th>\n",
       "      <td>7</td>\n",
       "      <td>1</td>\n",
       "    </tr>\n",
       "    <tr>\n",
       "      <th>62</th>\n",
       "      <td>7</td>\n",
       "      <td>4</td>\n",
       "    </tr>\n",
       "    <tr>\n",
       "      <th>63</th>\n",
       "      <td>6</td>\n",
       "      <td>3</td>\n",
       "    </tr>\n",
       "    <tr>\n",
       "      <th>64</th>\n",
       "      <td>4</td>\n",
       "      <td>6</td>\n",
       "    </tr>\n",
       "    <tr>\n",
       "      <th>65</th>\n",
       "      <td>4</td>\n",
       "      <td>4</td>\n",
       "    </tr>\n",
       "    <tr>\n",
       "      <th>66</th>\n",
       "      <td>3</td>\n",
       "      <td>4</td>\n",
       "    </tr>\n",
       "    <tr>\n",
       "      <th>67</th>\n",
       "      <td>6</td>\n",
       "      <td>3</td>\n",
       "    </tr>\n",
       "    <tr>\n",
       "      <th>68</th>\n",
       "      <td>2</td>\n",
       "      <td>2</td>\n",
       "    </tr>\n",
       "    <tr>\n",
       "      <th>69</th>\n",
       "      <td>1</td>\n",
       "      <td>2</td>\n",
       "    </tr>\n",
       "    <tr>\n",
       "      <th>70</th>\n",
       "      <td>3</td>\n",
       "      <td>1</td>\n",
       "    </tr>\n",
       "    <tr>\n",
       "      <th>71</th>\n",
       "      <td>0</td>\n",
       "      <td>3</td>\n",
       "    </tr>\n",
       "    <tr>\n",
       "      <th>74</th>\n",
       "      <td>0</td>\n",
       "      <td>1</td>\n",
       "    </tr>\n",
       "    <tr>\n",
       "      <th>76</th>\n",
       "      <td>0</td>\n",
       "      <td>1</td>\n",
       "    </tr>\n",
       "    <tr>\n",
       "      <th>77</th>\n",
       "      <td>1</td>\n",
       "      <td>0</td>\n",
       "    </tr>\n",
       "  </tbody>\n",
       "</table>\n",
       "</div>"
      ],
      "text/plain": [
       "target_num  0.0  1.0\n",
       "age                 \n",
       "29            0    1\n",
       "34            0    2\n",
       "35            2    2\n",
       "37            0    2\n",
       "38            1    2\n",
       "39            1    3\n",
       "40            2    1\n",
       "41            1    9\n",
       "42            1    7\n",
       "43            3    5\n",
       "44            3    8\n",
       "45            2    6\n",
       "46            3    4\n",
       "47            2    3\n",
       "48            3    4\n",
       "49            2    3\n",
       "50            3    4\n",
       "51            3    9\n",
       "52            4    9\n",
       "53            2    6\n",
       "54            6   10\n",
       "55            5    3\n",
       "56            6    5\n",
       "57           10    7\n",
       "58           12    7\n",
       "59            9    5\n",
       "60            8    3\n",
       "61            7    1\n",
       "62            7    4\n",
       "63            6    3\n",
       "64            4    6\n",
       "65            4    4\n",
       "66            3    4\n",
       "67            6    3\n",
       "68            2    2\n",
       "69            1    2\n",
       "70            3    1\n",
       "71            0    3\n",
       "74            0    1\n",
       "76            0    1\n",
       "77            1    0"
      ]
     },
     "execution_count": 20,
     "metadata": {},
     "output_type": "execute_result"
    }
   ],
   "source": [
    "pd.crosstab(df[\"age\"], df[\"target_num\"])"
   ]
  }
 ],
 "metadata": {
  "kernelspec": {
   "display_name": "Python 3",
   "language": "python",
   "name": "python3"
  },
  "language_info": {
   "codemirror_mode": {
    "name": "ipython",
    "version": 3
   },
   "file_extension": ".py",
   "mimetype": "text/x-python",
   "name": "python",
   "nbconvert_exporter": "python",
   "pygments_lexer": "ipython3",
   "version": "3.7.12"
  },
  "papermill": {
   "default_parameters": {},
   "duration": 20.17907,
   "end_time": "2022-12-08T04:28:04.182948",
   "environment_variables": {},
   "exception": null,
   "input_path": "__notebook__.ipynb",
   "output_path": "__notebook__.ipynb",
   "parameters": {},
   "start_time": "2022-12-08T04:27:44.003878",
   "version": "2.3.4"
  }
 },
 "nbformat": 4,
 "nbformat_minor": 5
}
